{
 "cells": [
  {
   "cell_type": "markdown",
   "id": "e46cbc3d-7c2b-493a-a013-0e479580ccc2",
   "metadata": {},
   "source": [
    "### generation"
   ]
  },
  {
   "cell_type": "code",
   "execution_count": null,
   "id": "3c0ce1bb-de4a-453c-a17c-624038d0b724",
   "metadata": {},
   "outputs": [],
   "source": [
    "Extract aspects for the given queries:\n",
    "\n",
    "Query: fortnite game\n",
    "Aspects (4): platform, characters, minimum pc requirements, streamers\n",
    "    \n",
    "Query: lungs\n",
    "Aspects (3): clean, heal, strengthen\n",
    "\n",
    "Query: caesars atlantic city\n",
    "Aspects (3): "
   ]
  },
  {
   "cell_type": "markdown",
   "id": "a120eb1f-5ece-4d69-8c23-50960d6ca278",
   "metadata": {},
   "source": [
    "### win-lose"
   ]
  },
  {
   "cell_type": "raw",
   "id": "2316be56-c39f-4b81-9ad4-20151bda961d",
   "metadata": {},
   "source": [
    "Which of the following aspects is more suitable for queries? Don't explain.\n",
    "\n",
    "Query: caesars atlantic city\n",
    "Aspects 1. hotel, casino, amenities\n",
    "Aspects 2. entertainment, car, train"
   ]
  }
 ],
 "metadata": {
  "kernelspec": {
   "display_name": "Python 3",
   "language": "python",
   "name": "python3"
  },
  "language_info": {
   "codemirror_mode": {
    "name": "ipython",
    "version": 3
   },
   "file_extension": ".py",
   "mimetype": "text/x-python",
   "name": "python",
   "nbconvert_exporter": "python",
   "pygments_lexer": "ipython3",
   "version": "3.8.10"
  }
 },
 "nbformat": 4,
 "nbformat_minor": 5
}
