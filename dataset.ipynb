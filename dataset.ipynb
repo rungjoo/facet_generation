{
 "cells": [
  {
   "cell_type": "markdown",
   "id": "e5eebf83-3ebe-494e-a987-29cf5042c7e0",
   "metadata": {},
   "source": [
    "## SERP 데이터"
   ]
  },
  {
   "cell_type": "code",
   "execution_count": 1,
   "id": "edcdf31a-d926-4d98-be43-0254164cc357",
   "metadata": {},
   "outputs": [],
   "source": [
    "# http://ciir.cs.umass.edu/downloads/mimics-serp/MIMICS-BingAPI-results.zip\n",
    "f = open(\"MIMICS-BingAPI.sample\")\n",
    "dataset = f.readlines()\n",
    "f.close()"
   ]
  },
  {
   "cell_type": "code",
   "execution_count": 182,
   "id": "5cd9a585-d0fa-4407-a391-a793f533f3ca",
   "metadata": {},
   "outputs": [
    {
     "data": {
      "text/plain": [
       "10000"
      ]
     },
     "execution_count": 182,
     "metadata": {},
     "output_type": "execute_result"
    }
   ],
   "source": [
    "len(dataset)"
   ]
  },
  {
   "cell_type": "code",
   "execution_count": 196,
   "id": "4626ef9e-9ee1-4945-a069-9531b2284899",
   "metadata": {},
   "outputs": [],
   "source": [
    "data = dataset[1]\n",
    "data = data.replace(\"true\", \"True\")\n",
    "data = data.replace(\"false\", \"False\")"
   ]
  },
  {
   "cell_type": "code",
   "execution_count": 197,
   "id": "fab94c89-ce11-4403-bd79-ee77c0494ef3",
   "metadata": {},
   "outputs": [
    {
     "data": {
      "text/plain": [
       "dict_keys(['instrumentation', 'queryContext', 'webPages', 'relatedSearches', 'videos', 'rankingResponse', 'pagination'])"
      ]
     },
     "execution_count": 197,
     "metadata": {},
     "output_type": "execute_result"
    }
   ],
   "source": [
    "json_data = eval(data)\n",
    "json_data.keys()"
   ]
  },
  {
   "cell_type": "code",
   "execution_count": 198,
   "id": "c1cda51c-7ae4-4272-8af1-90f32ac859dd",
   "metadata": {},
   "outputs": [
    {
     "data": {
      "text/plain": [
       "{'_type': 'ResponseInstrumentation',\n",
       " 'pingUrlBase': 'https://www.bingapis.com/api/ping?IG=698A77DC18C34087B3411EE209FAEDE8&CID=3EBE2CEC73FF60FA0B8723F972B3613A&ID=',\n",
       " 'pageLoadPingUrl': 'https://www.bingapis.com/api/ping/pageload?IG=698A77DC18C34087B3411EE209FAEDE8&CID=3EBE2CEC73FF60FA0B8723F972B3613A&Type=Event.CPT&DATA=0'}"
      ]
     },
     "execution_count": 198,
     "metadata": {},
     "output_type": "execute_result"
    }
   ],
   "source": [
    "json_data['instrumentation']"
   ]
  },
  {
   "cell_type": "code",
   "execution_count": 199,
   "id": "0eb9865d-46df-4bd6-8a60-28eabb8c0d15",
   "metadata": {},
   "outputs": [
    {
     "data": {
      "text/plain": [
       "'aveda products'"
      ]
     },
     "execution_count": 199,
     "metadata": {},
     "output_type": "execute_result"
    }
   ],
   "source": [
    "query = json_data['queryContext']['originalQuery']\n",
    "query"
   ]
  },
  {
   "cell_type": "code",
   "execution_count": 200,
   "id": "8897839d-bf1d-40c2-80cc-7eebbec93925",
   "metadata": {},
   "outputs": [
    {
     "data": {
      "text/plain": [
       "dict_keys(['webSearchUrl', 'webSearchUrlPingSuffix', 'totalEstimatedMatches', 'value'])"
      ]
     },
     "execution_count": 200,
     "metadata": {},
     "output_type": "execute_result"
    }
   ],
   "source": [
    "json_data['webPages'].keys()"
   ]
  },
  {
   "cell_type": "code",
   "execution_count": 201,
   "id": "fbf6bbd6-08f8-49ab-bd40-b086a205bd53",
   "metadata": {},
   "outputs": [
    {
     "data": {
      "text/plain": [
       "['Discover <b>Aveda</b>&#39;s natural, eco-friendly <b>products</b> designed to make you look &amp; feel fresh. Shop professional hair &amp; skin care <b>products</b> or find a salon near you!',\n",
       " '<b>Aveda</b> Styling <b>Products</b> $. $. Pure Abundance Hair Potion By <b>Aveda</b> - 0.7 Oz Potion <b>Aveda</b> Light Elements Shaping Wax <b>Aveda</b> Air Control Hairspray Travel Size 1.5 Oz <b>Aveda</b> Phomollient Styling Foam 33.8 oz <b>Aveda</b> Brilliant Medium Hold Hair Spray 33.8 Oz <b>Aveda</b> Men Pure-formance ...',\n",
       " 'Amazon&#39;s Choice for <b>aveda products</b>. <b>Aveda</b> Volumizing Tonic with Aloe, 3.4oz. 4.5 out of 5 stars 365. $23.09 $ 23. 09 ($6.79/Fl Oz) Get it as soon as Mon, Jul 27. FREE Shipping on your first order shipped by Amazon. Only 20 left in stock - order soon. More Buying Choices $22.50 (19 new offers)',\n",
       " 'Whichever <b>products</b> you choose, you can count on <b>Aveda</b> to deliver planet-friendly <b>products</b> featuring naturally derived ingredients and intoxicating fragrances created from pure flower and plant essences. Shop our selection of shampoo and conditioner and dry shampoo for these <b>Aveda products</b> and more top-of-the-line hair care.',\n",
       " 'Product Title <b>Aveda</b> Brilliant Medium Hold Hair Spray, 8.5 Oz Average rating: 4.3 out of 5 stars, based on 4 reviews 4 ratings Current Price $21.85 $ 21 . 85 List List Price $28.50 $ 28 . 50',\n",
       " 'Page was realoaded You are currently filtering for <b>products</b> with the following refinements.<b>aveda</b> <b>aveda</b> Clear All Free shipping with $35+ orders Add to basket $24.99 ($2.94 / oz.) <b>Aveda</b> Shampure Conditioner, 8.5 OZ. Free shipping with $35+ orders ...',\n",
       " 'Amazon&#39;s Choice for <b>aveda products</b>. <b>Aveda</b> Volumizing Tonic with Aloe, 3.4oz. 4.5 out of 5 stars 359. $26.11 $ 26. 11 ($7.68/Fl Oz) Get it as soon as Tue, Jul 21. FREE Shipping by Amazon. More Buying Choices $22.50 (19 new offers) 3.4 Fl Oz.',\n",
       " '<b>Aveda</b> skincare as a whole has been committed using naturally occurring ingredients in their <b>products</b> since the brand first began, and that committed in evident in their formulations today. For example, many of the skincare <b>products</b> across <b>Aveda</b>’s collections include <b>Aveda</b>’s own ‘pure-fume’.',\n",
       " 'm.<b>aveda</b>.com']"
      ]
     },
     "execution_count": 201,
     "metadata": {},
     "output_type": "execute_result"
    }
   ],
   "source": [
    "snippet_list = [x['snippet'] for x in json_data['webPages']['value']]\n",
    "snippet_list"
   ]
  },
  {
   "cell_type": "code",
   "execution_count": 202,
   "id": "b21a1e25-3bf6-435f-96e1-9c1c0c01388c",
   "metadata": {},
   "outputs": [
    {
     "data": {
      "text/plain": [
       "('https://www.bingapis.com/api/v7/#WebPages.0', 'https://www.aveda.com/')"
      ]
     },
     "execution_count": 202,
     "metadata": {},
     "output_type": "execute_result"
    }
   ],
   "source": [
    "json_data['webPages']['value'][0]['id'], json_data['webPages']['value'][0]['url']"
   ]
  },
  {
   "cell_type": "code",
   "execution_count": 203,
   "id": "84fe9355-50ef-45e3-a67c-583f928c56df",
   "metadata": {},
   "outputs": [
    {
     "data": {
      "text/plain": [
       "dict_keys(['id', 'value'])"
      ]
     },
     "execution_count": 203,
     "metadata": {},
     "output_type": "execute_result"
    }
   ],
   "source": [
    "json_data['relatedSearches'].keys()"
   ]
  },
  {
   "cell_type": "code",
   "execution_count": 204,
   "id": "856604df-96c4-4409-b597-c8f63d4e6837",
   "metadata": {},
   "outputs": [
    {
     "data": {
      "text/plain": [
       "'https://www.bingapis.com/api/v7/#RelatedSearches'"
      ]
     },
     "execution_count": 204,
     "metadata": {},
     "output_type": "execute_result"
    }
   ],
   "source": [
    "json_data['relatedSearches']['id']"
   ]
  },
  {
   "cell_type": "code",
   "execution_count": 205,
   "id": "4033aec8-38db-43fc-9a85-b18d2c1ee222",
   "metadata": {},
   "outputs": [
    {
     "data": {
      "text/plain": [
       "{'text': 'aveda hair products',\n",
       " 'displayText': 'aveda <b>hair</b> products',\n",
       " 'webSearchUrl': 'https://www.bing.com/search?q=aveda+hair+products',\n",
       " 'webSearchUrlPingSuffix': 'DevEx,5516.1'}"
      ]
     },
     "execution_count": 205,
     "metadata": {},
     "output_type": "execute_result"
    }
   ],
   "source": [
    "json_data['relatedSearches']['value'][0]"
   ]
  },
  {
   "cell_type": "code",
   "execution_count": 206,
   "id": "34bfa0ec-7b6f-4626-a48a-bcebf7fe1aa0",
   "metadata": {},
   "outputs": [
    {
     "data": {
      "text/plain": [
       "['aveda hair products',\n",
       " 'nordstrom aveda products',\n",
       " 'aveda products for thinning hair',\n",
       " 'aveda products where to buy',\n",
       " 'aveda products for gray hair',\n",
       " 'aveda hair products sale',\n",
       " 'aveda hair products for women',\n",
       " 'aveda hair products at target']"
      ]
     },
     "execution_count": 206,
     "metadata": {},
     "output_type": "execute_result"
    }
   ],
   "source": [
    "related_list = [x['text'] for x in json_data['relatedSearches']['value']]\n",
    "related_list"
   ]
  },
  {
   "cell_type": "code",
   "execution_count": 207,
   "id": "340cfdc0-4e9e-4d2e-b1cc-0009af45323a",
   "metadata": {},
   "outputs": [
    {
     "data": {
      "text/plain": [
       "dict_keys(['mainline', 'pagination'])"
      ]
     },
     "execution_count": 207,
     "metadata": {},
     "output_type": "execute_result"
    }
   ],
   "source": [
    "json_data['rankingResponse'].keys()"
   ]
  },
  {
   "cell_type": "code",
   "execution_count": 208,
   "id": "7b40092d-ebf3-4166-927f-96a91f8eba2b",
   "metadata": {},
   "outputs": [
    {
     "data": {
      "text/plain": [
       "'https://www.bingapis.com/api/v7/#WebPages.0'"
      ]
     },
     "execution_count": 208,
     "metadata": {},
     "output_type": "execute_result"
    }
   ],
   "source": [
    "json_data['rankingResponse']['mainline']['items'][0]['value']['id']"
   ]
  },
  {
   "cell_type": "code",
   "execution_count": 209,
   "id": "1787a1dc-84a4-4823-9aef-4ca756161223",
   "metadata": {},
   "outputs": [],
   "source": [
    "# json_data"
   ]
  },
  {
   "cell_type": "markdown",
   "id": "abe43810-9fed-4a14-a4cd-17bbe0a710ac",
   "metadata": {},
   "source": [
    "import jsonlines\n",
    "\n",
    "with jsonlines.open(\"target.jsonl\") as f:\n",
    "    for line in f.iter():\n",
    "    \tprint(line[\"id\"]) # 각 json에 해당하는 \"id\" 출력\n",
    "        print(line[\"title\"]) # 각 json에 해당하는 \"title\" 출력### SERP queries"
   ]
  },
  {
   "cell_type": "code",
   "execution_count": 1,
   "id": "a4d4e553-59f4-4dc9-89ad-052c96623c3e",
   "metadata": {},
   "outputs": [],
   "source": [
    "import jsonlines\n",
    "\n",
    "dataset = []\n",
    "with jsonlines.open(\"MIMICS-BingAPI.jsonl\") as f:\n",
    "    for line in f.iter():\n",
    "        dataset.append(line)"
   ]
  },
  {
   "cell_type": "code",
   "execution_count": 3,
   "id": "2334a6f6-0db0-43af-afec-ce051e0526bd",
   "metadata": {},
   "outputs": [
    {
     "data": {
      "text/plain": [
       "(479807, dict_keys(['what is superfetch']))"
      ]
     },
     "execution_count": 3,
     "metadata": {},
     "output_type": "execute_result"
    }
   ],
   "source": [
    "len(dataset), dataset[0].keys()"
   ]
  },
  {
   "cell_type": "code",
   "execution_count": 5,
   "id": "80b63ba9-4f86-48dc-aca4-26dc202b7079",
   "metadata": {},
   "outputs": [],
   "source": [
    "query_document = {}\n",
    "for data in dataset:\n",
    "    query = list(data.keys())[0]\n",
    "    snippet_list = data[query]\n",
    "    query_document[query] = snippet_list"
   ]
  },
  {
   "cell_type": "code",
   "execution_count": 6,
   "id": "86c9e892-2c29-4553-8e13-5ed6ba894c67",
   "metadata": {},
   "outputs": [
    {
     "data": {
      "text/plain": [
       "479807"
      ]
     },
     "execution_count": 6,
     "metadata": {},
     "output_type": "execute_result"
    }
   ],
   "source": [
    "len(query_document)"
   ]
  },
  {
   "cell_type": "markdown",
   "id": "ebde5c0a-680a-45c9-88e3-8fb890a310d5",
   "metadata": {},
   "source": [
    "## MIMICS 데이터"
   ]
  },
  {
   "cell_type": "code",
   "execution_count": 7,
   "id": "7cbae994-5c54-4c68-a860-98f3d646af88",
   "metadata": {},
   "outputs": [
    {
     "data": {
      "text/plain": [
       "['MIMICS/data/MIMICS-Click.tsv',\n",
       " 'MIMICS/data/MIMICS-Manual.tsv',\n",
       " 'MIMICS/data/MIMICS-ClickExplore.tsv']"
      ]
     },
     "execution_count": 7,
     "metadata": {},
     "output_type": "execute_result"
    }
   ],
   "source": [
    "import glob\n",
    "folder = \"MIMICS/data/*\"\n",
    "datapath_list = glob.glob(folder)\n",
    "datapath_list"
   ]
  },
  {
   "cell_type": "code",
   "execution_count": 8,
   "id": "7bae3b11-dfbe-47dc-a23f-b06c0d652586",
   "metadata": {},
   "outputs": [],
   "source": [
    "train_path = datapath_list[0]\n",
    "test_path = datapath_list[1]"
   ]
  },
  {
   "cell_type": "code",
   "execution_count": 9,
   "id": "0bbd3744-367c-48c3-a832-8b298d8e281a",
   "metadata": {},
   "outputs": [],
   "source": [
    "import pandas as pd\n",
    "tr_df = pd.read_csv(train_path, sep = '\\t')\n",
    "te_df = pd.read_csv(test_path, sep = '\\t')"
   ]
  },
  {
   "cell_type": "code",
   "execution_count": 10,
   "id": "70fdcd3d-3be3-4036-9eaa-4f0decc3f245",
   "metadata": {},
   "outputs": [
    {
     "data": {
      "text/plain": [
       "pandas.core.frame.DataFrame"
      ]
     },
     "execution_count": 10,
     "metadata": {},
     "output_type": "execute_result"
    }
   ],
   "source": [
    "type(tr_df)"
   ]
  },
  {
   "cell_type": "code",
   "execution_count": 11,
   "id": "42722143-6415-4ba4-87ac-aae4b2e34e10",
   "metadata": {},
   "outputs": [
    {
     "data": {
      "text/plain": [
       "(414362, 14)"
      ]
     },
     "execution_count": 11,
     "metadata": {},
     "output_type": "execute_result"
    }
   ],
   "source": [
    "tr_df.shape"
   ]
  },
  {
   "cell_type": "code",
   "execution_count": 12,
   "id": "391106be-b648-4927-8617-926df1ff3c51",
   "metadata": {},
   "outputs": [
    {
     "data": {
      "text/plain": [
       "Index(['query', 'question', 'option_1', 'option_2', 'option_3', 'option_4',\n",
       "       'option_5', 'impression_level', 'engagement_level', 'option_cctr_1',\n",
       "       'option_cctr_2', 'option_cctr_3', 'option_cctr_4', 'option_cctr_5'],\n",
       "      dtype='object')"
      ]
     },
     "execution_count": 12,
     "metadata": {},
     "output_type": "execute_result"
    }
   ],
   "source": [
    "tr_df.columns"
   ]
  },
  {
   "cell_type": "code",
   "execution_count": 13,
   "id": "771c3320-c7c4-4494-8fba-8e9b0f59c49d",
   "metadata": {},
   "outputs": [],
   "source": [
    "train_dataset = tr_df[['query', 'option_1', 'option_2', 'option_3', 'option_4', 'option_5']] # Click\n",
    "test_dataset = te_df[['query', 'option_1', 'option_2', 'option_3', 'option_4', 'option_5', 'options_overall_label']] # Manual"
   ]
  },
  {
   "cell_type": "code",
   "execution_count": 26,
   "id": "2fd20d99-6733-4081-b9da-f205f7546a83",
   "metadata": {},
   "outputs": [],
   "source": [
    "import math\n",
    "train_data = {}\n",
    "for i in range(len(train_dataset)):\n",
    "    data = train_dataset.iloc[i]\n",
    "    query, option_1, option_2, option_3, option_4, option_5 = data['query'], data['option_1'], data['option_2'], data['option_3'], data['option_4'], data['option_5']    \n",
    "    train_data[i] = {}\n",
    "    train_data[i]['query'] = query\n",
    "    options = [option_1, option_2, option_3, option_4, option_5]\n",
    "    filter_options = []\n",
    "    for option in options:\n",
    "        if not (isinstance(option, float) and (math.isnan(option))):\n",
    "            filter_options.append(option)    \n",
    "    train_data[i]['facet'] = filter_options\n",
    "    if query in query_document:\n",
    "        train_data[i]['document'] = query_document[query]\n",
    "    \n",
    "test_data = {}\n",
    "for i in range(len(test_dataset)):\n",
    "    data = test_dataset.iloc[i]\n",
    "    query, option_1, option_2, option_3, option_4, option_5 = data['query'], data['option_1'], data['option_2'], data['option_3'], data['option_4'], data['option_5']    \n",
    "    test_data[i] = {}\n",
    "    test_data[i]['query'] = query\n",
    "    options = [option_1, option_2, option_3, option_4, option_5]\n",
    "    filter_options = []\n",
    "    for option in options:\n",
    "        if not (isinstance(option, float) and (math.isnan(option))):\n",
    "            filter_options.append(option)\n",
    "    test_data[i]['facet'] = filter_options\n",
    "    \n",
    "    options_overall_label = int(data['options_overall_label']) # Manual\n",
    "    test_data[i]['options_overall_label'] = options_overall_label\n",
    "    if query in query_document:\n",
    "        test_data[i]['document'] = query_document[query]"
   ]
  },
  {
   "cell_type": "code",
   "execution_count": 15,
   "id": "fd06a7e3-ae90-41ad-a4fa-115afa8a0a85",
   "metadata": {},
   "outputs": [
    {
     "name": "stdout",
     "output_type": "stream",
     "text": [
      "414362 2832\n"
     ]
    }
   ],
   "source": [
    "print(len(train_data), len(test_data))"
   ]
  },
  {
   "cell_type": "code",
   "execution_count": 16,
   "id": "dd51294a-a618-4a20-add8-39ba57921440",
   "metadata": {},
   "outputs": [
    {
     "name": "stdout",
     "output_type": "stream",
     "text": [
      "414202\n"
     ]
    }
   ],
   "source": [
    "docu_num = 0\n",
    "for k, data in train_data.items():\n",
    "    if 'document' in data:\n",
    "        docu_num += 1\n",
    "print(docu_num)        "
   ]
  },
  {
   "cell_type": "code",
   "execution_count": 17,
   "id": "53a601b3-893c-48a3-a155-2118744558c0",
   "metadata": {},
   "outputs": [
    {
     "name": "stdout",
     "output_type": "stream",
     "text": [
      "2829\n"
     ]
    }
   ],
   "source": [
    "docu_num = 0\n",
    "for k, data in test_data.items():\n",
    "    if 'document' in data:\n",
    "        docu_num += 1\n",
    "print(docu_num)        "
   ]
  },
  {
   "cell_type": "code",
   "execution_count": 38,
   "id": "e4469f32-3af9-4017-b782-8bcfcc412b77",
   "metadata": {},
   "outputs": [
    {
     "name": "stderr",
     "output_type": "stream",
     "text": [
      " 10%|█         | 42018/414362 [00:00<00:00, 1514343.48it/s]"
     ]
    },
    {
     "name": "stdout",
     "output_type": "stream",
     "text": [
      "accident investigation\n",
      "['motorcycle accident', 'car accident', 'train accident', 'boat accident', 'forklift accident']\n",
      "atropine sulfate drops\n",
      "['interactions', 'overdose', 'precautions', 'side effects', 'uses']\n",
      "best fps games\n",
      "['for steam', 'for pc', 'for ps4', 'for xbox one', 'for android']\n"
     ]
    },
    {
     "name": "stderr",
     "output_type": "stream",
     "text": [
      "\n"
     ]
    }
   ],
   "source": [
    "from tqdm import tqdm\n",
    "train_docu_data = []\n",
    "num = 0\n",
    "for i, data in tqdm(train_data.items()):\n",
    "    query, facet = data['query'], data['facet']\n",
    "    if \"atropine sulfate drops\" in query:\n",
    "        print(query)\n",
    "        print(facet)\n",
    "        num+=1    \n",
    "    if \"best fps games\" in query:\n",
    "        print(query)\n",
    "        print(facet)\n",
    "        num+=1    \n",
    "    if \"accident investigation\" in query:\n",
    "        print(query)\n",
    "        print(facet)\n",
    "        num+=1\n",
    "    if num == 3:\n",
    "        break"
   ]
  },
  {
   "cell_type": "code",
   "execution_count": 10,
   "id": "7fdc6207-e391-47a2-be94-82025753dd31",
   "metadata": {},
   "outputs": [],
   "source": [
    "import json\n",
    "with open(\"data/train.json\", 'w', encoding='utf-8') as f:\n",
    "    json.dump(train_data, f, indent=\"\\t\")"
   ]
  },
  {
   "cell_type": "code",
   "execution_count": 28,
   "id": "8832e64e-de34-4f8d-9111-ea5338a397f4",
   "metadata": {},
   "outputs": [],
   "source": [
    "with open(\"data/test.json\", 'w', encoding='utf-8') as f:\n",
    "    json.dump(test_data, f, indent=\"\\t\")"
   ]
  },
  {
   "cell_type": "code",
   "execution_count": 11,
   "id": "ad6bf8c0-5a78-47ed-9b91-a44a6d996af8",
   "metadata": {},
   "outputs": [],
   "source": [
    "import json\n",
    "with open(\"data/train.json\", 'r', encoding='utf-8') as f:\n",
    "    train_data = json.load(f)"
   ]
  },
  {
   "cell_type": "code",
   "execution_count": 13,
   "id": "03f46c2a-379b-4a30-af8e-09af88bc044c",
   "metadata": {},
   "outputs": [
    {
     "name": "stdout",
     "output_type": "stream",
     "text": [
      "{'query': 'acronis true image', 'facet': ['windows 10', 'windows xp', 'windows 7', 'mac os x', 'windows 2000']}\n"
     ]
    }
   ],
   "source": [
    "for k, v in train_data.items():\n",
    "    if 'document' not in v:\n",
    "        print(v)\n",
    "        break"
   ]
  },
  {
   "cell_type": "code",
   "execution_count": 14,
   "id": "db06c93a-d85e-401a-a6bb-ce2d0e603a1e",
   "metadata": {},
   "outputs": [
    {
     "ename": "KeyError",
     "evalue": "'document'",
     "output_type": "error",
     "traceback": [
      "\u001b[0;31m---------------------------------------------------------------------------\u001b[0m",
      "\u001b[0;31mKeyError\u001b[0m                                  Traceback (most recent call last)",
      "\u001b[0;32m<ipython-input-14-36c17eb08059>\u001b[0m in \u001b[0;36m<module>\u001b[0;34m\u001b[0m\n\u001b[0;32m----> 1\u001b[0;31m \u001b[0mv\u001b[0m\u001b[0;34m[\u001b[0m\u001b[0;34m'document'\u001b[0m\u001b[0;34m]\u001b[0m\u001b[0;34m\u001b[0m\u001b[0;34m\u001b[0m\u001b[0m\n\u001b[0m",
      "\u001b[0;31mKeyError\u001b[0m: 'document'"
     ]
    }
   ],
   "source": [
    "v['document']"
   ]
  },
  {
   "cell_type": "code",
   "execution_count": null,
   "id": "1505e777-50d1-489a-90c8-556c269a9398",
   "metadata": {},
   "outputs": [],
   "source": []
  }
 ],
 "metadata": {
  "kernelspec": {
   "display_name": "Python 3",
   "language": "python",
   "name": "python3"
  },
  "language_info": {
   "codemirror_mode": {
    "name": "ipython",
    "version": 3
   },
   "file_extension": ".py",
   "mimetype": "text/x-python",
   "name": "python",
   "nbconvert_exporter": "python",
   "pygments_lexer": "ipython3",
   "version": "3.8.10"
  }
 },
 "nbformat": 4,
 "nbformat_minor": 5
}
