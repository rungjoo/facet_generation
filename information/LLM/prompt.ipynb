{
 "cells": [
  {
   "cell_type": "code",
   "execution_count": 6,
   "id": "d16b4793-0977-44be-8b61-c6b1ead8520b",
   "metadata": {
    "tags": []
   },
   "outputs": [],
   "source": [
    "import json\n",
    "data_path = \"../../data/train.json\"\n",
    "with open(data_path, \"r\") as f:\n",
    "    dataset = json.load(f)"
   ]
  },
  {
   "cell_type": "code",
   "execution_count": 16,
   "id": "696d4ad1-30ef-494c-9ca3-4c9e8b6334a5",
   "metadata": {
    "tags": []
   },
   "outputs": [],
   "source": [
    "query_list = {}\n",
    "for ind, data in dataset.items():\n",
    "    query = data['query']    \n",
    "    if query in query_list:\n",
    "        print(query)\n",
    "        break\n",
    "    else:\n",
    "        query_list[query] = data"
   ]
  },
  {
   "cell_type": "code",
   "execution_count": 17,
   "id": "4274faf1-0413-4086-875f-da1b102d7615",
   "metadata": {
    "tags": []
   },
   "outputs": [
    {
     "data": {
      "text/plain": [
       "['#HASH#value excel',\n",
       " '%2f',\n",
       " '%localappdata%',\n",
       " '*.pst file location',\n",
       " '.22 hornet',\n",
       " '.22 pellets',\n",
       " '.223 vs 5.56',\n",
       " '.338 lapua magnum',\n",
       " '.338 winchester magnum',\n",
       " '.45 acp']"
      ]
     },
     "execution_count": 17,
     "metadata": {},
     "output_type": "execute_result"
    }
   ],
   "source": [
    "list(query_list.keys())[:10]"
   ]
  },
  {
   "cell_type": "code",
   "execution_count": 18,
   "id": "00786e28-4e09-49c1-9a9e-2c8573a988ad",
   "metadata": {
    "tags": []
   },
   "outputs": [
    {
     "data": {
      "text/plain": [
       "True"
      ]
     },
     "execution_count": 18,
     "metadata": {},
     "output_type": "execute_result"
    }
   ],
   "source": [
    "\"%2f\" in query_list"
   ]
  },
  {
   "cell_type": "code",
   "execution_count": 7,
   "id": "9266137b-7ae2-48c0-bf79-4b3e9dcbe3c8",
   "metadata": {
    "tags": []
   },
   "outputs": [
    {
     "data": {
      "text/plain": [
       "'caesars atlantic city events, caesars atlantic city jobs, caesars atlantic city parking'"
      ]
     },
     "execution_count": 7,
     "metadata": {},
     "output_type": "execute_result"
    }
   ],
   "source": [
    "\", \".join(dataset['0']['facet'])"
   ]
  },
  {
   "cell_type": "code",
   "execution_count": 1,
   "id": "1bd4716f-ca05-48ff-8b86-f8c76031f29a",
   "metadata": {
    "tags": []
   },
   "outputs": [
    {
     "name": "stderr",
     "output_type": "stream",
     "text": [
      "/home1/jovyan/venv_main/lib/python3.9/site-packages/tqdm/auto.py:21: TqdmWarning: IProgress not found. Please update jupyter and ipywidgets. See https://ipywidgets.readthedocs.io/en/stable/user_install.html\n",
      "  from .autonotebook import tqdm as notebook_tqdm\n",
      "Loading checkpoint shards: 100%|██████████| 7/7 [01:10<00:00, 10.12s/it]\n"
     ]
    }
   ],
   "source": [
    "import torch\n",
    "from transformers import AutoModelForCausalLM, AutoTokenizer, TextStreamer\n",
    "\n",
    "model_path = \"/home1/jovyan/hdfs-jmt-rungjoo-private/huggingface_models/upstage/llama-30b-instruct-2048\" # \"upstage/llama-30b-instruct-2048\"\n",
    "tokenizer = AutoTokenizer.from_pretrained(model_path) \n",
    "model = AutoModelForCausalLM.from_pretrained(\n",
    "    model_path,\n",
    "    device_map=\"auto\",\n",
    "    torch_dtype=torch.float16\n",
    ")"
   ]
  },
  {
   "cell_type": "code",
   "execution_count": 3,
   "id": "6deb2742-844f-4645-8e5c-32cf91033461",
   "metadata": {
    "tags": []
   },
   "outputs": [
    {
     "name": "stdout",
     "output_type": "stream",
     "text": [
      "### User:\n",
      "The facet for 'caesars atlantic city' is 'caesars atlantic city events'. To create this facet, please create the necessary information in one sentence.\n",
      "\n",
      "### Assistant:\n",
      "\n"
     ]
    }
   ],
   "source": [
    "prompt = \"### User:\\nThe facet for 'caesars atlantic city' is 'caesars atlantic city events'. To create this facet, please create the necessary information in one sentence.\\n\\n### Assistant:\\n\"\n",
    "print(prompt)"
   ]
  },
  {
   "cell_type": "code",
   "execution_count": 4,
   "id": "9ea47809-5587-4876-ab05-2a9966fe9eaf",
   "metadata": {
    "tags": []
   },
   "outputs": [
    {
     "name": "stdout",
     "output_type": "stream",
     "text": [
      "Caesars Atlantic City offers a variety of events and entertainment options for guests to enjoy during their stay.\n"
     ]
    }
   ],
   "source": [
    "inputs = tokenizer(prompt, return_tensors=\"pt\").to(model.device)\n",
    "streamer = TextStreamer(tokenizer, skip_prompt=True, skip_special_tokens=True)\n",
    "\n",
    "output = model.generate(**inputs, streamer=streamer, use_cache=True, max_new_tokens=float('inf'))\n",
    "output_text = tokenizer.decode(output[0], skip_special_tokens=True)"
   ]
  },
  {
   "cell_type": "code",
   "execution_count": null,
   "id": "8bd15b5e-a076-44cd-bcd7-8551adebdd90",
   "metadata": {},
   "outputs": [],
   "source": [
    "'caesars atlantic city'에 대한 facet은 'caesars atlantic city events, caesars atlantic city jobs, caesars atlantic city parking'야.\n",
    "각 facet들을 생성하기 위해, 중간 정보들을 말해줘.\n",
    "\n",
    "The facet for 'caesars atlantic city' is 'caesars atlantic city events, caesars atlantic city jobs, caesars atlantic city parking'.\n",
    "To create each facet, tell me the intermediate information.\n",
    "Don't explain."
   ]
  },
  {
   "cell_type": "code",
   "execution_count": 2,
   "id": "25d40788-8f23-4d23-b11e-e1f79f008055",
   "metadata": {
    "tags": []
   },
   "outputs": [
    {
     "data": {
      "text/plain": [
       "\"\\nThe facet for 'caesars atlantic city' is 'caesars atlantic city events'.\\nTo create this facet, please create the necessary information in one sentence.\\nDon't explain.\\n\""
      ]
     },
     "execution_count": 2,
     "metadata": {},
     "output_type": "execute_result"
    }
   ],
   "source": [
    "# 'caesars atlantic city'에 대한 facet은 'caesars atlantic city events'야.\n",
    "# 이 facet을 생성하기 위해, 필요한 정보를 한 문장으로 생성해줘.\n",
    "# 설명은 하지마.\n",
    "\n",
    "\"\"\"The facet for 'caesars atlantic city' is 'caesars atlantic city events'. To create this facet, please create the necessary information in one sentence.\"\"\""
   ]
  },
  {
   "cell_type": "code",
   "execution_count": 4,
   "id": "aa715ca9-ce77-4b95-b817-54646c13ee16",
   "metadata": {},
   "outputs": [],
   "source": [
    "import json\n",
    "my_data = {1:3}\n",
    "with open(\"target_data.jsonl\", \"w\", encoding=\"utf-8\") as f:\n",
    "    json.dump(my_data, f, ensure_ascii=False) # ensure_ascii로 한글이 깨지지 않게 저장\n",
    "    f.write(\"\\n\") # json을 쓰는 것과 같지만, 여러 줄을 써주는 것이므로 \"\\n\"을 붙여준다."
   ]
  },
  {
   "cell_type": "code",
   "execution_count": null,
   "id": "0e0d6c71-1022-4899-a775-894cff5ea4f0",
   "metadata": {},
   "outputs": [],
   "source": []
  }
 ],
 "metadata": {
  "kernelspec": {
   "display_name": "venv_main",
   "language": "python",
   "name": "venv_main"
  },
  "language_info": {
   "codemirror_mode": {
    "name": "ipython",
    "version": 3
   },
   "file_extension": ".py",
   "mimetype": "text/x-python",
   "name": "python",
   "nbconvert_exporter": "python",
   "pygments_lexer": "ipython3",
   "version": "3.9.10"
  }
 },
 "nbformat": 4,
 "nbformat_minor": 5
}
