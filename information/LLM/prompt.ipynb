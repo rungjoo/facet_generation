{
 "cells": [
  {
   "cell_type": "code",
   "execution_count": 1,
   "id": "d16b4793-0977-44be-8b61-c6b1ead8520b",
   "metadata": {
    "tags": []
   },
   "outputs": [],
   "source": [
    "import json\n",
    "data_path = \"../../data/train.json\"\n",
    "with open(data_path, \"r\") as f:\n",
    "    dataset = json.load(f)"
   ]
  },
  {
   "cell_type": "code",
   "execution_count": 2,
   "id": "696d4ad1-30ef-494c-9ca3-4c9e8b6334a5",
   "metadata": {
    "tags": []
   },
   "outputs": [],
   "source": [
    "query_list = {}\n",
    "for ind, data in dataset.items():\n",
    "    query = data['query']    \n",
    "    if query in query_list:\n",
    "        print(query)\n",
    "        break\n",
    "    else:\n",
    "        query_list[query] = data"
   ]
  },
  {
   "cell_type": "code",
   "execution_count": 3,
   "id": "4274faf1-0413-4086-875f-da1b102d7615",
   "metadata": {
    "tags": []
   },
   "outputs": [
    {
     "data": {
      "text/plain": [
       "['#HASH#value excel',\n",
       " '%2f',\n",
       " '%localappdata%',\n",
       " '*.pst file location',\n",
       " '.22 hornet',\n",
       " '.22 pellets',\n",
       " '.223 vs 5.56',\n",
       " '.338 lapua magnum',\n",
       " '.338 winchester magnum',\n",
       " '.45 acp']"
      ]
     },
     "execution_count": 3,
     "metadata": {},
     "output_type": "execute_result"
    }
   ],
   "source": [
    "list(query_list.keys())[:10]"
   ]
  },
  {
   "cell_type": "code",
   "execution_count": 4,
   "id": "00786e28-4e09-49c1-9a9e-2c8573a988ad",
   "metadata": {
    "tags": []
   },
   "outputs": [
    {
     "data": {
      "text/plain": [
       "True"
      ]
     },
     "execution_count": 4,
     "metadata": {},
     "output_type": "execute_result"
    }
   ],
   "source": [
    "\"%2f\" in query_list"
   ]
  },
  {
   "cell_type": "code",
   "execution_count": 5,
   "id": "9266137b-7ae2-48c0-bf79-4b3e9dcbe3c8",
   "metadata": {
    "tags": []
   },
   "outputs": [
    {
     "data": {
      "text/plain": [
       "'2010, 2013, 2016'"
      ]
     },
     "execution_count": 5,
     "metadata": {},
     "output_type": "execute_result"
    }
   ],
   "source": [
    "\", \".join(dataset['0']['facet'])"
   ]
  },
  {
   "cell_type": "code",
   "execution_count": 7,
   "id": "1bd4716f-ca05-48ff-8b86-f8c76031f29a",
   "metadata": {
    "tags": []
   },
   "outputs": [
    {
     "name": "stderr",
     "output_type": "stream",
     "text": [
      "Loading checkpoint shards: 100%|██████████| 2/2 [00:31<00:00, 15.96s/it]\n"
     ]
    }
   ],
   "source": [
    "import torch\n",
    "from transformers import AutoModelForCausalLM, AutoTokenizer, TextStreamer\n",
    "\n",
    "# model_path = \"/home1/jovyan/hdfs-jmt-rungjoo-private/huggingface_models/upstage/llama-30b-instruct-2048\" # \"upstage/llama-30b-instruct-2048\"\n",
    "model_path = \"/home/jovyan/hdfs-jmt-rungjoo-private/huggingface_models/HyperbeeAI/Tulpar-7b-v0\" # \"upstage/llama-30b-instruct-2048\"\n",
    "\n",
    "tokenizer = AutoTokenizer.from_pretrained(model_path) \n",
    "model = AutoModelForCausalLM.from_pretrained(\n",
    "    model_path,\n",
    "    device_map=\"auto\",\n",
    "    torch_dtype=torch.float16\n",
    ")"
   ]
  },
  {
   "cell_type": "code",
   "execution_count": 8,
   "id": "6deb2742-844f-4645-8e5c-32cf91033461",
   "metadata": {
    "tags": []
   },
   "outputs": [
    {
     "name": "stdout",
     "output_type": "stream",
     "text": [
      "### User:\n",
      "The facet for 'caesars atlantic city' is 'caesars atlantic city events'. Tell me the rationale for it in one sentence.\n",
      "\n",
      "### Assistant:\n",
      "\n"
     ]
    }
   ],
   "source": [
    "prompt = \"### User:\\nThe facet for 'caesars atlantic city' is 'caesars atlantic city events'. Tell me the rationale for it in one sentence.\\n\\n### Assistant:\\n\"\n",
    "print(prompt)"
   ]
  },
  {
   "cell_type": "code",
   "execution_count": 17,
   "id": "9ea47809-5587-4876-ab05-2a9966fe9eaf",
   "metadata": {
    "tags": []
   },
   "outputs": [
    {
     "name": "stdout",
     "output_type": "stream",
     "text": [
      "The facet 'caesars atlantic city events' is included to provide information about the various events and entertainment options available at Caesars Atlantic City, attracting guests and promoting the casino's overall experience.\n"
     ]
    }
   ],
   "source": [
    "inputs = tokenizer(prompt, return_tensors=\"pt\").to(model.device)\n",
    "streamer = TextStreamer(tokenizer, skip_prompt=True, skip_special_tokens=True)\n",
    "\n",
    "output = model.generate(**inputs, streamer=streamer, use_cache=True, max_new_tokens=100, temperature=0.01)\n",
    "output_text = tokenizer.decode(output[0], skip_special_tokens=True)"
   ]
  },
  {
   "cell_type": "code",
   "execution_count": null,
   "id": "c18d11a0-5c69-485c-a3c7-3ba4feecf626",
   "metadata": {},
   "outputs": [],
   "source": []
  },
  {
   "cell_type": "code",
   "execution_count": null,
   "id": "09705c49-8952-42fe-87ff-70cd4dc1ac4a",
   "metadata": {},
   "outputs": [],
   "source": []
  },
  {
   "cell_type": "code",
   "execution_count": null,
   "id": "d1fde619-47b1-411e-a755-42d878f8f56d",
   "metadata": {},
   "outputs": [],
   "source": []
  },
  {
   "cell_type": "code",
   "execution_count": null,
   "id": "1d530c75-7d01-43ee-8432-9b59a5c1575f",
   "metadata": {},
   "outputs": [],
   "source": []
  },
  {
   "cell_type": "code",
   "execution_count": null,
   "id": "4ea8fed8-7095-4317-828d-4d13b61e03e3",
   "metadata": {},
   "outputs": [],
   "source": []
  },
  {
   "cell_type": "code",
   "execution_count": null,
   "id": "5bff8122-cc74-4919-95ce-1a0592bfc77a",
   "metadata": {},
   "outputs": [],
   "source": []
  },
  {
   "cell_type": "code",
   "execution_count": 1,
   "id": "aa715ca9-ce77-4b95-b817-54646c13ee16",
   "metadata": {
    "tags": []
   },
   "outputs": [],
   "source": [
    "import json\n",
    "with open(\"LLM_train_7B.jsonl\", \"r\", encoding=\"utf-8\") as f:\n",
    "    dataset = f.readlines()"
   ]
  },
  {
   "cell_type": "code",
   "execution_count": 2,
   "id": "0e0d6c71-1022-4899-a775-894cff5ea4f0",
   "metadata": {
    "tags": []
   },
   "outputs": [
    {
     "data": {
      "text/plain": [
       "{'query': '2015 volvo xc60',\n",
       " 'facet_info': [['specs',\n",
       "   \" The 'specs' facet for the 2015 Volvo XC60 is relevant because it provides detailed information about the vehicle's specifications, such as dimensions, engine, and performance, which are essential for potential buyers to make informed decisions.\"],\n",
       "  ['manual',\n",
       "   \" The rationale for the 'manual' facet for the 2015 Volvo XC60 is that it refers to the transmission type, which offers a choice between an automatic or manual gearbox, allowing drivers to manually shift gears for a more engaging driving experience.\"],\n",
       "  ['review',\n",
       "   \" The facet 'review' for the '2015 Volvo XC60' is chosen because it helps users find and read opinions, feedback, and experiences shared by others about the car's performance, features, and overall satisfaction.\"],\n",
       "  ['for sale',\n",
       "   \" The facet 'for sale' is included for the 2015 Volvo XC60 because it helps potential buyers find and purchase the specific vehicle model they are interested in.\"],\n",
       "  ['accessories',\n",
       "   \" The rationale for 'accessories' as a facet for the 2015 Volvo XC60 is that it represents the various optional features and add-ons available for customization and enhancement of the vehicle's performance, comfort, and appearance.\"]]}"
      ]
     },
     "execution_count": 2,
     "metadata": {},
     "output_type": "execute_result"
    }
   ],
   "source": [
    "json.loads(dataset[4000])"
   ]
  },
  {
   "cell_type": "code",
   "execution_count": 3,
   "id": "30375dbf-5a15-4ab7-8ed8-77a9588f317f",
   "metadata": {
    "tags": []
   },
   "outputs": [],
   "source": [
    "import json\n",
    "with open(\"../../data/train_rationale_7B.json\", \"r\", encoding=\"utf-8\") as f:\n",
    "    dataset = json.load(f)"
   ]
  },
  {
   "cell_type": "code",
   "execution_count": 4,
   "id": "b5803b36-87e2-48d2-890a-a0694ebfd0b5",
   "metadata": {
    "tags": []
   },
   "outputs": [
    {
     "data": {
      "text/plain": [
       "414362"
      ]
     },
     "execution_count": 4,
     "metadata": {},
     "output_type": "execute_result"
    }
   ],
   "source": [
    "len(dataset)"
   ]
  },
  {
   "cell_type": "code",
   "execution_count": 5,
   "id": "83fa96af-5d9e-40d7-89ca-06b2fb98317c",
   "metadata": {
    "tags": []
   },
   "outputs": [
    {
     "data": {
      "text/plain": [
       "[['specs',\n",
       "  \" The 'specs' facet for the 2015 Volvo XC60 is relevant because it provides detailed information about the vehicle's specifications, such as dimensions, engine, and performance, which are essential for potential buyers to make informed decisions.\"],\n",
       " ['manual',\n",
       "  \" The rationale for the 'manual' facet for the 2015 Volvo XC60 is that it refers to the transmission type, which offers a choice between an automatic or manual gearbox, allowing drivers to manually shift gears for a more engaging driving experience.\"],\n",
       " ['review',\n",
       "  \" The facet 'review' for the '2015 Volvo XC60' is chosen because it helps users find and read opinions, feedback, and experiences shared by others about the car's performance, features, and overall satisfaction.\"],\n",
       " ['for sale',\n",
       "  \" The facet 'for sale' is included for the 2015 Volvo XC60 because it helps potential buyers find and purchase the specific vehicle model they are interested in.\"],\n",
       " ['accessories',\n",
       "  \" The rationale for 'accessories' as a facet for the 2015 Volvo XC60 is that it represents the various optional features and add-ons available for customization and enhancement of the vehicle's performance, comfort, and appearance.\"]]"
      ]
     },
     "execution_count": 5,
     "metadata": {},
     "output_type": "execute_result"
    }
   ],
   "source": [
    "dataset['4000']['rationale']"
   ]
  },
  {
   "cell_type": "code",
   "execution_count": null,
   "id": "738bf972-59e2-4334-8bef-1e5a43f0c6b3",
   "metadata": {},
   "outputs": [],
   "source": []
  }
 ],
 "metadata": {
  "kernelspec": {
   "display_name": "venv_main",
   "language": "python",
   "name": "venv_main"
  },
  "language_info": {
   "codemirror_mode": {
    "name": "ipython",
    "version": 3
   },
   "file_extension": ".py",
   "mimetype": "text/x-python",
   "name": "python",
   "nbconvert_exporter": "python",
   "pygments_lexer": "ipython3",
   "version": "3.8.10"
  }
 },
 "nbformat": 4,
 "nbformat_minor": 5
}
