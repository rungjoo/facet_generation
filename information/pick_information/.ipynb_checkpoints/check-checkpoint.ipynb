{
 "cells": [
  {
   "cell_type": "code",
   "execution_count": 11,
   "id": "d5ac5536-0964-4e71-b3db-b818d122f612",
   "metadata": {
    "tags": []
   },
   "outputs": [],
   "source": [
    "import json\n",
    "with open(\"../../data/train_pick.json\", \"r\") as f:\n",
    "    dataset = json.load(f)"
   ]
  },
  {
   "cell_type": "code",
   "execution_count": null,
   "id": "f3767b01-6c1f-48f3-b3ad-91a6000438ff",
   "metadata": {},
   "outputs": [],
   "source": [
    "len(dataset)"
   ]
  },
  {
   "cell_type": "code",
   "execution_count": 12,
   "id": "fdb0f41d-14bd-4f67-ac88-5f873ca6aee7",
   "metadata": {
    "tags": []
   },
   "outputs": [
    {
     "data": {
      "text/plain": [
       "dict_keys(['query', 'facet', 'original_document', 'pick_document', 'original_related', 'pick_related', 'related'])"
      ]
     },
     "execution_count": 12,
     "metadata": {},
     "output_type": "execute_result"
    }
   ],
   "source": [
    "dataset['0'].keys()"
   ]
  },
  {
   "cell_type": "code",
   "execution_count": 8,
   "id": "738fe609-1660-44b3-a19f-5b2fa47b4169",
   "metadata": {
    "tags": []
   },
   "outputs": [],
   "source": [
    "with open(\"../../data/train.json\", \"r\") as f:\n",
    "    dataset2 = json.load(f)"
   ]
  },
  {
   "cell_type": "code",
   "execution_count": null,
   "id": "91e63543-75ec-4214-9731-2c4045b48aa8",
   "metadata": {},
   "outputs": [],
   "source": [
    "len(dataset2)"
   ]
  },
  {
   "cell_type": "code",
   "execution_count": 9,
   "id": "79120813-d8a2-410c-b47d-fd90f69d67cf",
   "metadata": {
    "tags": []
   },
   "outputs": [
    {
     "data": {
      "text/plain": [
       "dict_keys(['query', 'facet', 'document', 'related'])"
      ]
     },
     "execution_count": 9,
     "metadata": {},
     "output_type": "execute_result"
    }
   ],
   "source": [
    "dataset2['0'].keys()"
   ]
  },
  {
   "cell_type": "code",
   "execution_count": null,
   "id": "a979b578-489b-4cd8-8aa2-133d5c349022",
   "metadata": {},
   "outputs": [],
   "source": []
  }
 ],
 "metadata": {
  "kernelspec": {
   "display_name": "Python 3",
   "language": "python",
   "name": "python3"
  },
  "language_info": {
   "codemirror_mode": {
    "name": "ipython",
    "version": 3
   },
   "file_extension": ".py",
   "mimetype": "text/x-python",
   "name": "python",
   "nbconvert_exporter": "python",
   "pygments_lexer": "ipython3",
   "version": "3.8.10"
  }
 },
 "nbformat": 4,
 "nbformat_minor": 5
}
