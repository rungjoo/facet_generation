{
 "cells": [
  {
   "cell_type": "code",
   "execution_count": 1,
   "id": "30e1b080-62e3-4ffc-9294-f34de880bce8",
   "metadata": {},
   "outputs": [],
   "source": [
    "import json\n",
    "with open(\"test.json\" ,\"r\") as f:\n",
    "    original_data = json.load(f)\n",
    "    \n",
    "with open(\"../document/result/test_document.json\", \"r\") as f:\n",
    "    document_data = json.load(f)\n",
    "    \n",
    "with open(\"../related/result/test_related.json\", \"r\") as f:\n",
    "    related_data = json.load(f)    \n",
    "    \n",
    "with open(\"../pick_information/result/test_pick_documet.json\", \"r\") as f:\n",
    "    pick_documet_data = json.load(f)        "
   ]
  },
  {
   "cell_type": "code",
   "execution_count": 2,
   "id": "fb256200-3a7f-4cd1-976f-77b8583566e2",
   "metadata": {},
   "outputs": [],
   "source": [
    "new_data = {}\n",
    "for k, v in original_data.items():\n",
    "    new_data[k] = {}\n",
    "    new_data[k]['query'] = v['query']\n",
    "    new_data[k]['facet'] = v['facet']\n",
    "    new_data[k]['options_overall_label'] = v['options_overall_label']\n",
    "    \n",
    "    assert new_data[k]['query'] == document_data[k]['query']\n",
    "    assert new_data[k]['query'] == related_data[k]['query']\n",
    "    assert new_data[k]['query'] == pick_documet_data[k]['query']\n",
    "    try:\n",
    "        new_data[k]['label_document'] = v['document']\n",
    "    except:\n",
    "        new_data[k]['label_document'] = []\n",
    "        \n",
    "    try:\n",
    "        new_data[k]['label_related'] = v['related']\n",
    "    except:\n",
    "        new_data[k]['label_related'] = []\n",
    "        \n",
    "    new_data[k]['pred_document'] = document_data[k]['pred']\n",
    "    new_data[k]['pick_document'] = [x[0] for x in pick_documet_data[k]['pick_document'][:5]]\n",
    "    new_data[k]['pred_related'] = related_data[k]['pred_related']"
   ]
  },
  {
   "cell_type": "code",
   "execution_count": 3,
   "id": "74244a53-fe5e-4271-a152-c78d4a6070ee",
   "metadata": {},
   "outputs": [],
   "source": [
    "with open(\"merge_test.json\", \"w\") as f:\n",
    "    json.dump(new_data, f)"
   ]
  },
  {
   "cell_type": "markdown",
   "id": "7bf1022c-4e3b-4576-b029-f5bac229e0cc",
   "metadata": {},
   "source": [
    "## 학습"
   ]
  },
  {
   "cell_type": "code",
   "execution_count": 1,
   "id": "cf0dc656-feaa-43da-9cc5-2c58f240e426",
   "metadata": {},
   "outputs": [],
   "source": [
    "import json\n",
    "with open(\"train.json\" ,\"r\") as f:\n",
    "    original_data = json.load(f)\n",
    "    \n",
    "with open(\"../pick_information/result/train_pick_documet.json\", \"r\") as f:\n",
    "    pick_documet_data = json.load(f)        "
   ]
  },
  {
   "cell_type": "code",
   "execution_count": 3,
   "id": "93a66d64-54fe-43cb-a8e7-af3eb0e5b4a7",
   "metadata": {},
   "outputs": [],
   "source": [
    "new_data = {}\n",
    "for k, v in original_data.items():\n",
    "    new_data[k] = {}\n",
    "    new_data[k]['query'] = v['query']\n",
    "    new_data[k]['facet'] = v['facet']\n",
    "    try:\n",
    "        new_data[k]['original_documet'] = v['document']\n",
    "    except:\n",
    "        new_data[k]['original_documet'] = []\n",
    "        \n",
    "    assert new_data[k]['query'] == pick_documet_data[k]['query']\n",
    "    new_data[k]['pick_document'] = [x[0] for x in pick_documet_data[k]['pick_document'][:5]]"
   ]
  },
  {
   "cell_type": "code",
   "execution_count": 4,
   "id": "af5c55c9-8094-4111-b0da-81e37f3d1d80",
   "metadata": {},
   "outputs": [],
   "source": [
    "with open(\"merge_train.json\", \"w\") as f:\n",
    "    json.dump(new_data, f)"
   ]
  },
  {
   "cell_type": "code",
   "execution_count": 3,
   "id": "c5c57675-bdc6-441b-8b99-6282208fffb4",
   "metadata": {},
   "outputs": [
    {
     "data": {
      "text/plain": [
       "dict_keys(['query', 'facet', 'document', 'related'])"
      ]
     },
     "execution_count": 3,
     "metadata": {},
     "output_type": "execute_result"
    }
   ],
   "source": [
    "original_data['0'].keys()"
   ]
  },
  {
   "cell_type": "code",
   "execution_count": 5,
   "id": "9fce83da-a974-4ce3-8d2c-799e724f2f5a",
   "metadata": {},
   "outputs": [
    {
     "data": {
      "text/plain": [
       "''"
      ]
     },
     "execution_count": 5,
     "metadata": {},
     "output_type": "execute_result"
    }
   ],
   "source": [
    "\"|\".join([])"
   ]
  },
  {
   "cell_type": "code",
   "execution_count": null,
   "id": "2e9d9d26-9846-4d43-bfea-9db19b1d0e12",
   "metadata": {},
   "outputs": [],
   "source": []
  }
 ],
 "metadata": {
  "kernelspec": {
   "display_name": "venv_p5",
   "language": "python",
   "name": "venv_p5"
  },
  "language_info": {
   "codemirror_mode": {
    "name": "ipython",
    "version": 3
   },
   "file_extension": ".py",
   "mimetype": "text/x-python",
   "name": "python",
   "nbconvert_exporter": "python",
   "pygments_lexer": "ipython3",
   "version": "3.8.10"
  }
 },
 "nbformat": 4,
 "nbformat_minor": 5
}
