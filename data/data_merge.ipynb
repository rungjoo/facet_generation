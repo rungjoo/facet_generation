{
 "cells": [
  {
   "cell_type": "code",
   "execution_count": 6,
   "id": "30e1b080-62e3-4ffc-9294-f34de880bce8",
   "metadata": {},
   "outputs": [],
   "source": [
    "import json\n",
    "with open(\"test.json\" ,\"r\") as f:\n",
    "    original_data = json.load(f)\n",
    "    \n",
    "with open(\"../snippet/result/test_document.json\", \"r\") as f:\n",
    "    document_data = json.load(f)\n",
    "    \n",
    "with open(\"../related/result/test_related.json\", \"r\") as f:\n",
    "    related_data = json.load(f)    "
   ]
  },
  {
   "cell_type": "code",
   "execution_count": 39,
   "id": "fb256200-3a7f-4cd1-976f-77b8583566e2",
   "metadata": {},
   "outputs": [],
   "source": [
    "new_data = {}\n",
    "for k, v in original_data.items():\n",
    "    new_data[k] = {}\n",
    "    new_data[k]['query'] = v['query']\n",
    "    new_data[k]['facet'] = v['facet']\n",
    "    new_data[k]['options_overall_label'] = v['options_overall_label']\n",
    "    \n",
    "    assert new_data[k]['query'] == document_data[k]['query']\n",
    "    assert new_data[k]['query'] == related_data[k]['query']\n",
    "    \n",
    "    try:\n",
    "        new_data[k]['label_document'] = v['document']\n",
    "    except:\n",
    "        new_data[k]['label_document'] = []\n",
    "    try:\n",
    "        new_data[k]['label_related'] = v['related']\n",
    "    except:\n",
    "        new_data[k]['label_related'] = []\n",
    "    \n",
    "    new_data[k]['pred_document'] = document_data[k]['pred']\n",
    "    new_data[k]['pred_related'] = related_data[k]['pred_related']"
   ]
  },
  {
   "cell_type": "code",
   "execution_count": 40,
   "id": "74244a53-fe5e-4271-a152-c78d4a6070ee",
   "metadata": {},
   "outputs": [],
   "source": [
    "with open(\"merge_test.json\", \"w\") as f:\n",
    "    json.dump(new_data, f)"
   ]
  },
  {
   "cell_type": "code",
   "execution_count": null,
   "id": "cf0dc656-feaa-43da-9cc5-2c58f240e426",
   "metadata": {},
   "outputs": [],
   "source": []
  }
 ],
 "metadata": {
  "kernelspec": {
   "display_name": "venv_p5",
   "language": "python",
   "name": "venv_p5"
  },
  "language_info": {
   "codemirror_mode": {
    "name": "ipython",
    "version": 3
   },
   "file_extension": ".py",
   "mimetype": "text/x-python",
   "name": "python",
   "nbconvert_exporter": "python",
   "pygments_lexer": "ipython3",
   "version": "3.8.10"
  }
 },
 "nbformat": 4,
 "nbformat_minor": 5
}
