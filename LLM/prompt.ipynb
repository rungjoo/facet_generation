{
 "cells": [
  {
   "cell_type": "code",
   "execution_count": 16,
   "id": "d16b4793-0977-44be-8b61-c6b1ead8520b",
   "metadata": {
    "tags": []
   },
   "outputs": [],
   "source": [
    "\n",
    "# 1. 자동차 종류\n",
    "# 2. 자동차 브랜드 정보\n",
    "# 3. 자동차 가격 정보\n",
    "# 4. 자동차 유지보수 방법\n",
    "# 5. 자동차 보험 가입 방법\n",
    "# 6. 자동차 부품 구매처 정보\n",
    "# 7. 자동차 튜닝 정보\n",
    "# 8. 자동차 안전 운전 팁\n",
    "# 9. 자동차 연료 종류\n",
    "# 10. 자동차 주행거리 관리법\n",
    "\n",
    "prompt = \"\"\"### User:\n",
    "Tell me in Korean about 10 facets related to cars.\n",
    "\n",
    "### Assistant:\n",
    "1. 자동차 종류\n",
    "2. 자동차 브랜드 정보\n",
    "3. 자동차 가격 정보\n",
    "4. 자동차 유지보수 방법\n",
    "5. 자동차 보험 가입 방법\n",
    "6. 자동차 부품 구매처 정보\n",
    "7. 자동차 튜닝 정보\n",
    "8. 자동차 안전 운전 팁\n",
    "9. 자동차 연료 종류\n",
    "10. 자동차 주행거리 관리법\n",
    "\n",
    "### User:\n",
    "Tell me in Korean about 10 facets related to artificial intelligence.\n",
    "\n",
    "### Assistant:\n",
    "\"\"\""
   ]
  },
  {
   "cell_type": "code",
   "execution_count": 17,
   "id": "696d4ad1-30ef-494c-9ca3-4c9e8b6334a5",
   "metadata": {
    "tags": []
   },
   "outputs": [
    {
     "data": {
      "text/plain": [
       "'### User:\\nTell me in Korean about 10 facets related to cars.\\n\\n### Assistant:\\n1. 자동차 종류\\n2. 자동차 브랜드 정보\\n3. 자동차 가격 정보\\n4. 자동차 유지보수 방법\\n5. 자동차 보험 가입 방법\\n6. 자동차 부품 구매처 정보\\n7. 자동차 튜닝 정보\\n8. 자동차 안전 운전 팁\\n9. 자동차 연료 종류\\n10. 자동차 주행거리 관리법\\n\\n### User:\\nTell me in Korean about 10 facets related to artificial intelligence.\\n\\n### Assistant:\\n'"
      ]
     },
     "execution_count": 17,
     "metadata": {},
     "output_type": "execute_result"
    }
   ],
   "source": [
    "prompt"
   ]
  },
  {
   "cell_type": "code",
   "execution_count": 13,
   "id": "00786e28-4e09-49c1-9a9e-2c8573a988ad",
   "metadata": {
    "tags": []
   },
   "outputs": [
    {
     "name": "stdout",
     "output_type": "stream",
     "text": [
      "### User:\n",
      "Tell me in Korean about 10 facets related to cars.\n",
      "\n",
      "### Assistant:\n",
      "1. 자동차 종류\n",
      "2. 자동차 브랜드 정보\n",
      "3. 자동차 가격 정보\n",
      "4. 자동차 유지보수 방법\n",
      "5. 자동차 보험 가입 방법\n",
      "6. 자동차 부품 구매처 정보\n",
      "7. 자동차 튜닝 정보\n",
      "8. 자동차 안전 운전 팁\n",
      "9. 자동차 연료 종류\n",
      "10. 자동차 주행거리 관리법\n",
      "\n",
      "### User:\n",
      "Tell me in Korean about 10 facets related to building.\n",
      "\n",
      "### Assistant:\n",
      "\n",
      "### User:\n",
      "Tell me in Korean about 10 facets related to cars.\n",
      "\n",
      "### Assistant:\n",
      "1. 자동차 종류\n",
      "2. 자동차 브랜드 정보\n",
      "3. 자동차 가격 정보\n",
      "4. 자동차 유지보수 방법\n",
      "5. 자동차 보험 가입 방법\n",
      "6. 자동차 부품 구매처 정보\n",
      "7. 자동차 튜닝 정보\n",
      "8. 자동차 안전 운전 팁\n",
      "9. 자동차 연료 종류\n",
      "10. 자동차 주행거리 관리법\n",
      "\n",
      "### User:\n",
      "Tell me in Korean about 10 facets related to building.\n",
      "\n",
      "### Assistant:\n",
      "\n"
     ]
    }
   ],
   "source": [
    "for _ in range(2):\n",
    "    prompt = \"\"\"### User:\n",
    "Tell me in Korean about 10 facets related to cars.\n",
    "\n",
    "### Assistant:\n",
    "1. 자동차 종류\n",
    "2. 자동차 브랜드 정보\n",
    "3. 자동차 가격 정보\n",
    "4. 자동차 유지보수 방법\n",
    "5. 자동차 보험 가입 방법\n",
    "6. 자동차 부품 구매처 정보\n",
    "7. 자동차 튜닝 정보\n",
    "8. 자동차 안전 운전 팁\n",
    "9. 자동차 연료 종류\n",
    "10. 자동차 주행거리 관리법\n",
    "\n",
    "### User:\n",
    "Tell me in Korean about 10 facets related to building.\n",
    "\n",
    "### Assistant:\n",
    "\"\"\"\n",
    "    print(prompt)"
   ]
  },
  {
   "cell_type": "code",
   "execution_count": null,
   "id": "9266137b-7ae2-48c0-bf79-4b3e9dcbe3c8",
   "metadata": {},
   "outputs": [],
   "source": []
  }
 ],
 "metadata": {
  "kernelspec": {
   "display_name": "Python 3 (ipykernel)",
   "language": "python",
   "name": "python3"
  },
  "language_info": {
   "codemirror_mode": {
    "name": "ipython",
    "version": 3
   },
   "file_extension": ".py",
   "mimetype": "text/x-python",
   "name": "python",
   "nbconvert_exporter": "python",
   "pygments_lexer": "ipython3",
   "version": "3.9.10"
  }
 },
 "nbformat": 4,
 "nbformat_minor": 5
}
