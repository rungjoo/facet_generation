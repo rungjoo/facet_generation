{
 "cells": [
  {
   "cell_type": "code",
   "execution_count": 2,
   "id": "3f6aadd0-593f-4eb5-8880-dda5bc525947",
   "metadata": {},
   "outputs": [],
   "source": [
    "import json\n",
    "with open(\"data/train.json\", 'r', encoding='utf-8') as f:\n",
    "    train_data = json.load(f)"
   ]
  },
  {
   "cell_type": "code",
   "execution_count": 3,
   "id": "5767a780-e9f1-48e6-9dfc-f00be3f8534c",
   "metadata": {},
   "outputs": [],
   "source": [
    "for ind, data in train_data.items():\n",
    "    query = data['query']\n",
    "    if 'document' in data:\n",
    "        document = data['document']\n",
    "        if len(document) == 0:\n",
    "            break"
   ]
  },
  {
   "cell_type": "code",
   "execution_count": 32,
   "id": "c4b837f1-659d-4d82-a817-d8d1cec4eed2",
   "metadata": {},
   "outputs": [
    {
     "data": {
      "text/plain": [
       "'beef, butternut squash, spaghetti squash, broccoli, broccoli'"
      ]
     },
     "execution_count": 32,
     "metadata": {},
     "output_type": "execute_result"
    }
   ],
   "source": [
    "\", \".join(train_data['400']['facet'])"
   ]
  },
  {
   "cell_type": "code",
   "execution_count": 5,
   "id": "12f5defe-f330-4344-9441-3da8543afae3",
   "metadata": {},
   "outputs": [
    {
     "data": {
      "text/plain": [
       "{'query': '100 best weight watchers recipes',\n",
       " 'facet': ['beef',\n",
       "  'butternut squash',\n",
       "  'spaghetti squash',\n",
       "  'broccoli',\n",
       "  'broccoli'],\n",
       " 'document': ['We have over 100 delicious Weight Watchers recipes with their WW SmartPoints. Find quick and easy WW recipes broken up by their points (zero on up) for instant pot, crock pot, chicken, beef and more.',\n",
       "  'WWs most popular recipes Check out the 20 best recipes that our members come back to time and again. Go-to dishes are a big part of a successful meal plan because you know how to make them and how many SmartPoints they have.',\n",
       "  '50 Favorite Weight Watchers Recipes. Whether youre craving a creamy casserole or chocolate fudge, get ready to indulge with these popular guilt-free Weight Watchers recipes.',\n",
       "  'Use the dropdown box below to sort every recipe on my blog by its WW Smart Points total. You can also use the roundups below in case you’re looking for a more specific search: 22 Weight Watchers Chicken Recipes with 5 Smart Points or Less; 25 Weight Watchers Breakfast Recipes with 5 Smart Points or Less',\n",
       "  'Here are 100 of the best Weight Watchers recipes. This list includes a wide array of recipes from all sorts of cuisines of main dishes, side dishes, salads, appetizers, breakfasts, desserts, and soups. Nutritious meals like these will help you in your weight loss goals.',\n",
       "  'Therefore, here I have collected 100 delicious Weight Watchers Recipes with smart points that you’d want to keep a track off. So, without much ado, let’s get started. Related: Keto Recipes for Dinner. First thing first, Pin this image for future reference. Weight Watchers Recipes with Smart Points #1.',\n",
       "  'Chicken Sausage, Mushroom  Pasta Casserole from Weight Watchers – 10. Sicilian Rice Ball Casserole from Skinnytaste – 10. Bubble Up Chicken Pot Pie from Recipe Diaries – 10. Weight Watchers Mexican Casserole from Recipe Diaries – 10. Spinach Queso Mac  Cheese from No Thanks To Cake – 10. Beef  Vegetable Pot Pie from Meal Planning ...',\n",
       "  'In addition to the 100 favorite recipes featured in this post, you will find hundreds more delicious WeightWatchers friendly crock pot recipes with Freestyle Smartpoints here on my blog.. Some of the most popular include: easy slow cooker chicken and gravy, skinny slow cooker southwest chicken soup, and 4-Ingredient Goddess chicken. Back in October of 2013 I challenged myself to use my slow ...',\n",
       "  'Build your repertoire of recipes that will make it easier, and tastier, than ever before to stay on track with your Weight Watchers goals. Our recipe list contains breakfasts, lunches, dinners, and snacks with only clean, whole ingredients…and each one is guaranteed to keep your Points in check! BREAKFAST 1.',\n",
       "  'Enjoy the foods you love on WW! Get 8,000+ recipes for healthy living to help you lose weight and build healthy habits.'],\n",
       " 'related': ['best weight watchers recipes of all time',\n",
       "  'weight watchers 0 point breakfast',\n",
       "  'free printable weight watchers recipes',\n",
       "  'top weight watcher recipes',\n",
       "  'weight watchers free recipes online',\n",
       "  'most popular weight watchers recipes',\n",
       "  '50 favorite weight watchers recipes',\n",
       "  'weight watcher recipes for free']}"
      ]
     },
     "execution_count": 5,
     "metadata": {},
     "output_type": "execute_result"
    }
   ],
   "source": [
    "train_data['400']"
   ]
  },
  {
   "cell_type": "code",
   "execution_count": 6,
   "id": "af6eea92-2d99-4401-8cfe-fa12622321bd",
   "metadata": {},
   "outputs": [],
   "source": [
    "# import re\n",
    "# text = \"\"\n",
    "# for sinppet in train_data['400']['document']:\n",
    "#     text += sinppet + '\\n' \n",
    "# text = text.strip()\n",
    "\n",
    "# def remove_tag(content):\n",
    "#     cleanr =re.compile('<.*?>')\n",
    "#     cleantext = re.sub(cleanr, '', content)\n",
    "#     return cleantext\n",
    "\n",
    "# def cleanhtml(raw_html):\n",
    "#     cleanr = re.compile('<.*?>|&([a-z0-9]+|#[0-9]{1,6}|#x[0-9a-f]{1,6});')\n",
    "#     cleantext = re.sub(cleanr, '', raw_html)\n",
    "#     return cleantext\n",
    "\n",
    "# # re.sub('<[^<]+?>', '', text)\n",
    "# print(cleanhtml(text))"
   ]
  },
  {
   "cell_type": "code",
   "execution_count": 7,
   "id": "8ac90f6f-4bb5-47fb-b30c-fe8326aae1b9",
   "metadata": {},
   "outputs": [],
   "source": [
    "# print(remove_tag(text))"
   ]
  },
  {
   "cell_type": "code",
   "execution_count": 8,
   "id": "517667e5-6061-4dde-bf30-51e07bbb2ea3",
   "metadata": {},
   "outputs": [],
   "source": [
    "import json\n",
    "with open(\"data/test.json\", 'r', encoding='utf-8') as f:\n",
    "    test_data = json.load(f)"
   ]
  },
  {
   "cell_type": "code",
   "execution_count": 9,
   "id": "62c59221-08c2-4bca-8111-6c47f39f992e",
   "metadata": {},
   "outputs": [
    {
     "data": {
      "text/plain": [
       "{'query': 'caesars atlantic city',\n",
       " 'facet': ['caesars atlantic city events',\n",
       "  'caesars atlantic city jobs',\n",
       "  'caesars atlantic city parking'],\n",
       " 'options_overall_label': 1,\n",
       " 'document': ['Caesars Atlantic City Disappointed, frustrated, miserable Worst hotel experience My kids wanted to experience Atlantic City so book Caesar’s base on advertising it was a nightmare for my kids, room and bathroom nasty, holes in rags and towels dingy like been using for the past...',\n",
       "  'Now $55 (Was $̶1̶1̶4̶) on Tripadvisor: Caesars Atlantic City, Atlantic City. See 18,311 traveler reviews, 1,818 candid photos, and great deals for Caesars Atlantic City, ranked #3 of 50 hotels in Atlantic City and rated 4 of 5 at Tripadvisor.',\n",
       "  'Book the Caesars Atlantic City Resort  Casino - Stay at this 4-star beach resort in Atlantic City. Enjoy free WiFi, an outdoor pool, and 10 restaurants. Our guests praise the restaurant and the comfy rooms in our reviews. Popular attractions Ballys Atlantic City Casino and Boardwalk Hall are located nearby. Discover genuine guest reviews for Caesars Atlantic City Resort  Casino along with ...',\n",
       "  'Caesars Atlantic City Casino: Address, Phone Number, Caesars Atlantic City Casino Reviews: 4/5',\n",
       "  'Caesars Casino, Atlantic City, NJ. Wikimedia Commons. Mindful of safety measures caused by Covid-19, Caesars, Bally’s, and Harrah’s Resort have rearranged slot machine banks to allow for ...',\n",
       "  'ATLANTIC CITY, N.J., June 26, 2020 /PRNewswire/ -- In anticipation of New Jersey Governor Phil Murphys order authorizing the reopening of Atlantic City casinos, Ballys, Caesars, and Harrahs Resort will re-open on Friday, July 3 rd, just in time for the Fourth of July holiday.*',\n",
       "  'Caesars Atlantic City is a luxury hotel, casino, and spa resort in Atlantic City, New Jersey.Like Caesars Palace in Las Vegas, it has an ancient Roman and ancient Greek theme. Atlantic Citys second casino, it opened in 1979 as the Caesars Boardwalk Regency. The 124,720 sq ft (11,587 m 2). casino has over 3,400 slot machines, and is one of the largest in Atlantic City.',\n",
       "  'Caesars welcomes those that are of legal casino gambling age to our website. CaesarsCasino.com is owned by Caesars Interactive Entertainment, Inc. Caesars Atlantic City, 2100 Pacific Avenue Atlantic City, NJ 08401',\n",
       "  'Welcome to Caesars Rewards ®, the casino industrys most popular loyalty program!'],\n",
       " 'related': ['caesar atlantic city hotels',\n",
       "  'ceaser palace hotels',\n",
       "  'atlantic city casinos',\n",
       "  'caesars las vegas',\n",
       "  'caesars atlantic city parking fee',\n",
       "  'casinos in atlantic city nj',\n",
       "  'are atlantic city casinos open',\n",
       "  'ceaser atlantic city casinos entertainment']}"
      ]
     },
     "execution_count": 9,
     "metadata": {},
     "output_type": "execute_result"
    }
   ],
   "source": [
    "test_data['0']"
   ]
  },
  {
   "cell_type": "code",
   "execution_count": 10,
   "id": "04523242-eefd-4994-9d9c-e68034cde435",
   "metadata": {},
   "outputs": [
    {
     "name": "stderr",
     "output_type": "stream",
     "text": [
      "Downloading (…)lve/main/config.json: 100%|██████████| 1.72k/1.72k [00:00<00:00, 991kB/s]\n",
      "Downloading pytorch_model.bin: 100%|██████████| 558M/558M [00:02<00:00, 207MB/s]  \n",
      "Downloading (…)olve/main/vocab.json: 100%|██████████| 899k/899k [00:00<00:00, 1.25MB/s]\n",
      "Downloading (…)olve/main/merges.txt: 100%|██████████| 456k/456k [00:00<00:00, 860kB/s]\n",
      "Downloading (…)/main/tokenizer.json: 100%|██████████| 1.36M/1.36M [00:00<00:00, 1.54MB/s]\n"
     ]
    }
   ],
   "source": [
    "from transformers import AutoTokenizer, BartForConditionalGeneration\n",
    "\n",
    "model_path = \"/home/jovyan/hdfs-jmt-rungjoo-private/huggingface_models/bart-base\"\n",
    "# model_path = \"facebook/bart-base\"\n",
    "model = BartForConditionalGeneration.from_pretrained(model_path)\n",
    "tokenizer = AutoTokenizer.from_pretrained(model_path) # facebook/bart-base"
   ]
  },
  {
   "cell_type": "code",
   "execution_count": 34,
   "id": "1d914e47-08f1-4d7e-ab2d-c7e0db9e479f",
   "metadata": {},
   "outputs": [],
   "source": [
    "input_string = \"caesars atlantic city\"\n",
    "enc_input = tokenizer(input_string, max_length=1024, return_tensors=\"pt\")\n",
    "\n",
    "taget_string = \"caesars atlantic city events, caesars atlantic city jobs, caesars atlantic city parking\"\n",
    "dec_input = tokenizer(taget_string, max_length=1024, return_tensors=\"pt\")"
   ]
  },
  {
   "cell_type": "code",
   "execution_count": 40,
   "id": "98c51658-6f33-4f39-b44c-8ccb89185431",
   "metadata": {},
   "outputs": [
    {
     "data": {
      "text/plain": [
       "torch.Size([2, 28])"
      ]
     },
     "execution_count": 40,
     "metadata": {},
     "output_type": "execute_result"
    }
   ],
   "source": [
    "taget_string = [\"caesars atlantic city events, caesars atlantic city jobs, caesars atlantic city parking\", 'hi hi hi']\n",
    "dec_input = tokenizer(taget_string, padding=True, truncation=True, max_length=tokenizer.model_max_length, return_tensors='pt')\n",
    "dec_input['input_ids'].shape"
   ]
  },
  {
   "cell_type": "code",
   "execution_count": 12,
   "id": "87cb23cb-5265-4995-957a-f58a65cfb35b",
   "metadata": {},
   "outputs": [],
   "source": [
    "enc_input_ids = enc_input['input_ids']\n",
    "enc_attention_mask = enc_input['attention_mask']\n",
    "\n",
    "dec_input_ids = dec_input['input_ids']\n",
    "labels = dec_input_ids[:, :-1]\n",
    "dec_input_ids = dec_input_ids[:, 1:]\n",
    "dec_attention_mask = dec_input['attention_mask'][:,1:]"
   ]
  },
  {
   "cell_type": "code",
   "execution_count": 15,
   "id": "bcd3b1f6-9c12-4459-8b8c-1935855518f9",
   "metadata": {},
   "outputs": [
    {
     "data": {
      "text/plain": [
       "tensor([[ 3245,   293,  2726,    23,   462, 26970,   343,  1061,     6,  6056,\n",
       "           293,  2726,    23,   462, 26970,   343,  1315,     6,  6056,   293,\n",
       "          2726,    23,   462, 26970,   343,  2932,     2]])"
      ]
     },
     "execution_count": 15,
     "metadata": {},
     "output_type": "execute_result"
    }
   ],
   "source": [
    "dec_input_ids"
   ]
  },
  {
   "cell_type": "code",
   "execution_count": 20,
   "id": "57439cc6-8af6-4078-9f20-61660f9abd4e",
   "metadata": {},
   "outputs": [
    {
     "data": {
      "text/plain": [
       "('<s>caesars atlantic city</s>',\n",
       " 'caesars atlantic city events, caesars atlantic city jobs, caesars atlantic city parking</s>',\n",
       " '<s>caesars atlantic city events, caesars atlantic city jobs, caesars atlantic city parking')"
      ]
     },
     "execution_count": 20,
     "metadata": {},
     "output_type": "execute_result"
    }
   ],
   "source": [
    "tokenizer.decode(enc_input_ids[0]), tokenizer.decode(dec_input_ids[0]), tokenizer.decode(labels[0])"
   ]
  },
  {
   "cell_type": "code",
   "execution_count": 29,
   "id": "2348a419-0c38-4435-933e-7306b48ee6f3",
   "metadata": {},
   "outputs": [],
   "source": [
    "outputs = model(\n",
    "    input_ids=enc_input_ids,\n",
    "    attention_mask=enc_attention_mask,\n",
    "    decoder_input_ids=dec_input_ids,\n",
    "    decoder_attention_mask=dec_attention_mask,\n",
    "    labels=labels\n",
    ")"
   ]
  },
  {
   "cell_type": "code",
   "execution_count": 30,
   "id": "1a0188d6-56cc-464a-8e4d-2f9a3a11b161",
   "metadata": {},
   "outputs": [
    {
     "data": {
      "text/plain": [
       "odict_keys(['loss', 'logits', 'encoder_last_hidden_state'])"
      ]
     },
     "execution_count": 30,
     "metadata": {},
     "output_type": "execute_result"
    }
   ],
   "source": [
    "outputs.keys()"
   ]
  },
  {
   "cell_type": "code",
   "execution_count": 22,
   "id": "956cb0a0-a48b-4998-b824-ec80db91c9cb",
   "metadata": {},
   "outputs": [],
   "source": [
    "loss = outputs.loss"
   ]
  },
  {
   "cell_type": "code",
   "execution_count": 23,
   "id": "910abdc8-6143-4704-aacd-323eef8f74b5",
   "metadata": {},
   "outputs": [
    {
     "data": {
      "text/plain": [
       "tensor(12.9108, grad_fn=<NllLossBackward0>)"
      ]
     },
     "execution_count": 23,
     "metadata": {},
     "output_type": "execute_result"
    }
   ],
   "source": [
    "loss"
   ]
  },
  {
   "cell_type": "code",
   "execution_count": 25,
   "id": "acc16b65-c4e9-460e-94d7-57392f5bf12b",
   "metadata": {},
   "outputs": [],
   "source": [
    "# test_string = \"caesars atlantic city:\"\n",
    "# inputs = tokenizer([test_string], max_length=1024, return_tensors=\"pt\")\n",
    "\n",
    "# gen_ids = model.generate(inputs[\"input_ids\"], num_beams=2, min_length=0, max_length=20)\n",
    "# tokenizer.batch_decode(gen_ids, skip_special_tokens=True)[0]"
   ]
  },
  {
   "cell_type": "markdown",
   "id": "63755ed4-c911-40bd-973a-ece2b0c983d0",
   "metadata": {},
   "source": [
    "## 파일로 로딩"
   ]
  },
  {
   "cell_type": "code",
   "execution_count": 1,
   "id": "00815715-67b4-4925-89a7-57bd9a9e1d0d",
   "metadata": {},
   "outputs": [
    {
     "name": "stderr",
     "output_type": "stream",
     "text": [
      "/home/jovyan/venv_p5/lib/python3.8/site-packages/tqdm/auto.py:21: TqdmWarning: IProgress not found. Please update jupyter and ipywidgets. See https://ipywidgets.readthedocs.io/en/stable/user_install.html\n",
      "  from .autonotebook import tqdm as notebook_tqdm\n"
     ]
    }
   ],
   "source": [
    "from dataloader import data_loader\n",
    "dataset = data_loader(\"data/test.json\", \"facebook/bart-base\")"
   ]
  },
  {
   "cell_type": "code",
   "execution_count": 2,
   "id": "162cf85c-efc8-4231-aba6-5d4f8cd790e6",
   "metadata": {},
   "outputs": [
    {
     "data": {
      "text/plain": [
       "{'query': 'caesars atlantic city',\n",
       " 'facet': ['caesars atlantic city events',\n",
       "  'caesars atlantic city jobs',\n",
       "  'caesars atlantic city parking'],\n",
       " 'options_overall_label': 1,\n",
       " 'document': ['Caesars Atlantic City Disappointed, frustrated, miserable Worst hotel experience My kids wanted to experience Atlantic City so book Caesar’s base on advertising it was a nightmare for my kids, room and bathroom nasty, holes in rags and towels dingy like been using for the past...',\n",
       "  'Now $55 (Was $̶1̶1̶4̶) on Tripadvisor: Caesars Atlantic City, Atlantic City. See 18,311 traveler reviews, 1,818 candid photos, and great deals for Caesars Atlantic City, ranked #3 of 50 hotels in Atlantic City and rated 4 of 5 at Tripadvisor.',\n",
       "  'Book the Caesars Atlantic City Resort  Casino - Stay at this 4-star beach resort in Atlantic City. Enjoy free WiFi, an outdoor pool, and 10 restaurants. Our guests praise the restaurant and the comfy rooms in our reviews. Popular attractions Ballys Atlantic City Casino and Boardwalk Hall are located nearby. Discover genuine guest reviews for Caesars Atlantic City Resort  Casino along with ...',\n",
       "  'Caesars Atlantic City Casino: Address, Phone Number, Caesars Atlantic City Casino Reviews: 4/5',\n",
       "  'Caesars Casino, Atlantic City, NJ. Wikimedia Commons. Mindful of safety measures caused by Covid-19, Caesars, Bally’s, and Harrah’s Resort have rearranged slot machine banks to allow for ...',\n",
       "  'ATLANTIC CITY, N.J., June 26, 2020 /PRNewswire/ -- In anticipation of New Jersey Governor Phil Murphys order authorizing the reopening of Atlantic City casinos, Ballys, Caesars, and Harrahs Resort will re-open on Friday, July 3 rd, just in time for the Fourth of July holiday.*',\n",
       "  'Caesars Atlantic City is a luxury hotel, casino, and spa resort in Atlantic City, New Jersey.Like Caesars Palace in Las Vegas, it has an ancient Roman and ancient Greek theme. Atlantic Citys second casino, it opened in 1979 as the Caesars Boardwalk Regency. The 124,720 sq ft (11,587 m 2). casino has over 3,400 slot machines, and is one of the largest in Atlantic City.',\n",
       "  'Caesars welcomes those that are of legal casino gambling age to our website. CaesarsCasino.com is owned by Caesars Interactive Entertainment, Inc. Caesars Atlantic City, 2100 Pacific Avenue Atlantic City, NJ 08401',\n",
       "  'Welcome to Caesars Rewards ®, the casino industrys most popular loyalty program!'],\n",
       " 'related': ['caesar atlantic city hotels',\n",
       "  'ceaser palace hotels',\n",
       "  'atlantic city casinos',\n",
       "  'caesars las vegas',\n",
       "  'caesars atlantic city parking fee',\n",
       "  'casinos in atlantic city nj',\n",
       "  'are atlantic city casinos open',\n",
       "  'ceaser atlantic city casinos entertainment']}"
      ]
     },
     "execution_count": 2,
     "metadata": {},
     "output_type": "execute_result"
    }
   ],
   "source": [
    "dataset[0]"
   ]
  },
  {
   "cell_type": "code",
   "execution_count": 2,
   "id": "17af0a76-2f65-4810-8144-c46412a77b9b",
   "metadata": {},
   "outputs": [],
   "source": [
    "from torch.utils.data import DataLoader\n",
    "dataloader = DataLoader(dataset, batch_size=2, shuffle=True, num_workers=4, collate_fn=dataset.collate_fn)"
   ]
  },
  {
   "cell_type": "code",
   "execution_count": 3,
   "id": "a5973e03-7e78-4ece-8109-61693cfe10b4",
   "metadata": {},
   "outputs": [
    {
     "name": "stdout",
     "output_type": "stream",
     "text": [
      "(tensor([[    0,   337, 12705,  7582,   512,     2],\n",
      "        [    0, 44115,  1258,  1504,     2,     1]]), tensor([[1, 1, 1, 1, 1, 1],\n",
      "        [1, 1, 1, 1, 1, 0]]), tensor([[  337, 12705,  7582,   512,  1597,  2977,     6,  1076, 12705,  7582,\n",
      "           512,  1236,  7372,     2],\n",
      "        [ 9178,     7,  6356,     6,   275,  1361,  1886,     6,  7132,     2,\n",
      "             1,     1,     1,     1]]), tensor([[1, 1, 1, 1, 1, 1, 1, 1, 1, 1, 1, 1, 1, 1],\n",
      "        [1, 1, 1, 1, 1, 1, 1, 1, 1, 1, 0, 0, 0, 0]]), tensor([[    0,   337, 12705,  7582,   512,  1597,  2977,     6,  1076, 12705,\n",
      "          7582,   512,  1236,  7372],\n",
      "        [    0,  9178,     7,  6356,     6,   275,  1361,  1886,     6,  7132,\n",
      "             2,     1,     1,     1]]))\n"
     ]
    }
   ],
   "source": [
    "for line in dataloader:\n",
    "    print(line)\n",
    "    break"
   ]
  },
  {
   "cell_type": "code",
   "execution_count": 4,
   "id": "238bc2c6-8a2b-4069-a9af-f420364a7839",
   "metadata": {},
   "outputs": [],
   "source": [
    "enc_input_ids, enc_attention_mask, dec_input_ids, dec_attention_mask, labels = line"
   ]
  },
  {
   "cell_type": "code",
   "execution_count": null,
   "id": "e9f3e5be-ec3c-4542-8ea8-74b46fc46110",
   "metadata": {},
   "outputs": [],
   "source": []
  }
 ],
 "metadata": {
  "kernelspec": {
   "display_name": "venv_p5",
   "language": "python",
   "name": "venv_p5"
  },
  "language_info": {
   "codemirror_mode": {
    "name": "ipython",
    "version": 3
   },
   "file_extension": ".py",
   "mimetype": "text/x-python",
   "name": "python",
   "nbconvert_exporter": "python",
   "pygments_lexer": "ipython3",
   "version": "3.8.10"
  }
 },
 "nbformat": 4,
 "nbformat_minor": 5
}
