{
 "cells": [
  {
   "cell_type": "code",
   "execution_count": 2,
   "id": "3f6aadd0-593f-4eb5-8880-dda5bc525947",
   "metadata": {},
   "outputs": [],
   "source": [
    "import json\n",
    "with open(\"data/train.json\", 'r', encoding='utf-8') as f:\n",
    "    train_data = json.load(f)"
   ]
  },
  {
   "cell_type": "code",
   "execution_count": 3,
   "id": "5767a780-e9f1-48e6-9dfc-f00be3f8534c",
   "metadata": {},
   "outputs": [],
   "source": [
    "for ind, data in train_data.items():\n",
    "    query = data['query']\n",
    "    if 'document' in data:\n",
    "        document = data['document']\n",
    "        if len(document) == 0:\n",
    "            break"
   ]
  },
  {
   "cell_type": "code",
   "execution_count": 6,
   "id": "c4b837f1-659d-4d82-a817-d8d1cec4eed2",
   "metadata": {},
   "outputs": [
    {
     "data": {
      "text/plain": [
       "('beef, butternut squash, spaghetti squash, broccoli, broccoli',\n",
       " '1016 lofts, 1016 house, 1016 apartments')"
      ]
     },
     "execution_count": 6,
     "metadata": {},
     "output_type": "execute_result"
    }
   ],
   "source": [
    "\", \".join(train_data['400']['facet']), \", \".join(train_data['500']['facet'])"
   ]
  },
  {
   "cell_type": "code",
   "execution_count": 7,
   "id": "12f5defe-f330-4344-9441-3da8543afae3",
   "metadata": {},
   "outputs": [
    {
     "data": {
      "text/plain": [
       "{'query': '1016',\n",
       " 'facet': ['1016 lofts', '1016 house', '1016 apartments'],\n",
       " 'document': ['Year 1016 was a leap year starting on Sunday (link will display the full calendar) of the Julian calendar. Events By place Europe. March 25 – Battle of Nesjar (off the coast of Norway): Olaf Haraldsson is victorious over former co-regent Sweyn ...',\n",
       "  'At the time, the police used ten codes in their radio communication to road patrol officers. A 10-16 meant there was an open door at the scene. The street address of our house had that same number. So it became the 1016 Home - always having an open door to anyone who was wanting a life of recovery from alcohol and other drugs.',\n",
       "  'Year 1016 was a leap year starting on Sunday (link will display the full calendar) of the Julian calendar.. Events By place Asia. March 10 – Emperor Sanjō gives up the throne of Japan and soon afterwards is replaced by his cousin Emperor Go-Ichijō, aged about 8. Earthquakes partly destroy the Dome of the Rock in the Old City of Jerusalem.; Europe. March 25 – Battle of Nesjar (off the ...',\n",
       "  'Gene ID: 1016, updated on 4-Jun-2020. Summary. This gene encodes a type II classical cadherin from the cadherin superfamily of integral membrane proteins that mediate calcium-dependent cell-cell adhesion. Mature cadherin proteins are composed of a large N-terminal extracellular domain, a single membrane-spanning domain, and a small, highly ...',\n",
       "  'Appendix A is part of 12 CFR Part 1016 (Regulation P). Regulation P requires financial institutions to provide certain privacy notices and to comply with certain limitations on the disclosure of nonpublic personal information to nonaffiliated third parties and requires financial institutions and others to comply with certain limitations on redisclosure and reuse.',\n",
       "  'We will be performing scheduled maintenance on Thursday, July 23, 2020 at 7:00 AM EDT. Service is expected to be restored by 10:00 AM EDT. However, this could run over. During this time Independent Study exams, The Online Admissions Application, IMDA, and STAR will not be available.',\n",
       "  '(a) General rule. The initial, annual, and revised privacy notices that you provide under §§ 1016.4, 1016.5, and 1016.8 of this part must include each of the following items of information, in addition to any other information you wish to provide, that applies to you and to the consumers to whom you send your privacy notice: (1) The categories of nonpublic personal information that you collect;',\n",
       "  'Online Resources. Go to ftb.ca.gov and search for withholding requirements or qualified intermediary (or qi) for updates, online tools, and more information, including:. Forms and Publications Find forms and information about real estate withholding requirements. SWIFT File your information returns electronically.',\n",
       "  '§ 1016.10 Limits on disclosure of nonpublic personal information to nonaffiliated third parties. § 1016.11 Limits on redisclosure and reuse of information. § 1016.12 Limits on sharing account number information for marketing purposes.',\n",
       "  '1016 Industries Ferrari Program Available Now. View all makes View Gallery. McLaren 570GT. 1016 Industries McLaren Program Available Now. View all makes View Gallery ...'],\n",
       " 'related': ['usair 1016',\n",
       "  '1016 recovery midland mi',\n",
       "  '1016 recovery network',\n",
       "  'usair flight 1016',\n",
       "  '1016 house midland mi',\n",
       "  'angel 1016',\n",
       "  '1016 lofts',\n",
       "  '1016 industries']}"
      ]
     },
     "execution_count": 7,
     "metadata": {},
     "output_type": "execute_result"
    }
   ],
   "source": [
    "train_data['500']"
   ]
  },
  {
   "cell_type": "code",
   "execution_count": 6,
   "id": "af6eea92-2d99-4401-8cfe-fa12622321bd",
   "metadata": {},
   "outputs": [],
   "source": [
    "# import re\n",
    "# text = \"\"\n",
    "# for sinppet in train_data['400']['document']:\n",
    "#     text += sinppet + '\\n' \n",
    "# text = text.strip()\n",
    "\n",
    "# def remove_tag(content):\n",
    "#     cleanr =re.compile('<.*?>')\n",
    "#     cleantext = re.sub(cleanr, '', content)\n",
    "#     return cleantext\n",
    "\n",
    "# def cleanhtml(raw_html):\n",
    "#     cleanr = re.compile('<.*?>|&([a-z0-9]+|#[0-9]{1,6}|#x[0-9a-f]{1,6});')\n",
    "#     cleantext = re.sub(cleanr, '', raw_html)\n",
    "#     return cleantext\n",
    "\n",
    "# # re.sub('<[^<]+?>', '', text)\n",
    "# print(cleanhtml(text))"
   ]
  },
  {
   "cell_type": "code",
   "execution_count": 7,
   "id": "8ac90f6f-4bb5-47fb-b30c-fe8326aae1b9",
   "metadata": {},
   "outputs": [],
   "source": [
    "# print(remove_tag(text))"
   ]
  },
  {
   "cell_type": "code",
   "execution_count": 8,
   "id": "517667e5-6061-4dde-bf30-51e07bbb2ea3",
   "metadata": {},
   "outputs": [],
   "source": [
    "import json\n",
    "with open(\"data/test.json\", 'r', encoding='utf-8') as f:\n",
    "    test_data = json.load(f)"
   ]
  },
  {
   "cell_type": "code",
   "execution_count": 9,
   "id": "62c59221-08c2-4bca-8111-6c47f39f992e",
   "metadata": {},
   "outputs": [
    {
     "data": {
      "text/plain": [
       "{'query': 'caesars atlantic city',\n",
       " 'facet': ['caesars atlantic city events',\n",
       "  'caesars atlantic city jobs',\n",
       "  'caesars atlantic city parking'],\n",
       " 'options_overall_label': 1,\n",
       " 'document': ['Caesars Atlantic City Disappointed, frustrated, miserable Worst hotel experience My kids wanted to experience Atlantic City so book Caesar’s base on advertising it was a nightmare for my kids, room and bathroom nasty, holes in rags and towels dingy like been using for the past...',\n",
       "  'Now $55 (Was $̶1̶1̶4̶) on Tripadvisor: Caesars Atlantic City, Atlantic City. See 18,311 traveler reviews, 1,818 candid photos, and great deals for Caesars Atlantic City, ranked #3 of 50 hotels in Atlantic City and rated 4 of 5 at Tripadvisor.',\n",
       "  'Book the Caesars Atlantic City Resort  Casino - Stay at this 4-star beach resort in Atlantic City. Enjoy free WiFi, an outdoor pool, and 10 restaurants. Our guests praise the restaurant and the comfy rooms in our reviews. Popular attractions Ballys Atlantic City Casino and Boardwalk Hall are located nearby. Discover genuine guest reviews for Caesars Atlantic City Resort  Casino along with ...',\n",
       "  'Caesars Atlantic City Casino: Address, Phone Number, Caesars Atlantic City Casino Reviews: 4/5',\n",
       "  'Caesars Casino, Atlantic City, NJ. Wikimedia Commons. Mindful of safety measures caused by Covid-19, Caesars, Bally’s, and Harrah’s Resort have rearranged slot machine banks to allow for ...',\n",
       "  'ATLANTIC CITY, N.J., June 26, 2020 /PRNewswire/ -- In anticipation of New Jersey Governor Phil Murphys order authorizing the reopening of Atlantic City casinos, Ballys, Caesars, and Harrahs Resort will re-open on Friday, July 3 rd, just in time for the Fourth of July holiday.*',\n",
       "  'Caesars Atlantic City is a luxury hotel, casino, and spa resort in Atlantic City, New Jersey.Like Caesars Palace in Las Vegas, it has an ancient Roman and ancient Greek theme. Atlantic Citys second casino, it opened in 1979 as the Caesars Boardwalk Regency. The 124,720 sq ft (11,587 m 2). casino has over 3,400 slot machines, and is one of the largest in Atlantic City.',\n",
       "  'Caesars welcomes those that are of legal casino gambling age to our website. CaesarsCasino.com is owned by Caesars Interactive Entertainment, Inc. Caesars Atlantic City, 2100 Pacific Avenue Atlantic City, NJ 08401',\n",
       "  'Welcome to Caesars Rewards ®, the casino industrys most popular loyalty program!'],\n",
       " 'related': ['caesar atlantic city hotels',\n",
       "  'ceaser palace hotels',\n",
       "  'atlantic city casinos',\n",
       "  'caesars las vegas',\n",
       "  'caesars atlantic city parking fee',\n",
       "  'casinos in atlantic city nj',\n",
       "  'are atlantic city casinos open',\n",
       "  'ceaser atlantic city casinos entertainment']}"
      ]
     },
     "execution_count": 9,
     "metadata": {},
     "output_type": "execute_result"
    }
   ],
   "source": [
    "test_data['0']"
   ]
  },
  {
   "cell_type": "code",
   "execution_count": 1,
   "id": "04523242-eefd-4994-9d9c-e68034cde435",
   "metadata": {
    "tags": []
   },
   "outputs": [
    {
     "name": "stderr",
     "output_type": "stream",
     "text": [
      "/home1/jovyan/venv_main/lib/python3.9/site-packages/tqdm/auto.py:21: TqdmWarning: IProgress not found. Please update jupyter and ipywidgets. See https://ipywidgets.readthedocs.io/en/stable/user_install.html\n",
      "  from .autonotebook import tqdm as notebook_tqdm\n"
     ]
    }
   ],
   "source": [
    "from transformers import AutoTokenizer, BartForConditionalGeneration\n",
    "\n",
    "model_path = \"/home/jovyan/hdfs-jmt-rungjoo-private/huggingface_models/bart-base\"\n",
    "# model_path = \"facebook/bart-base\"\n",
    "model = BartForConditionalGeneration.from_pretrained(model_path)\n",
    "tokenizer = AutoTokenizer.from_pretrained(model_path) # facebook/bart-base"
   ]
  },
  {
   "cell_type": "code",
   "execution_count": 2,
   "id": "7a03bad8-0cb8-47db-a8c0-97f056bd6e72",
   "metadata": {
    "tags": []
   },
   "outputs": [
    {
     "data": {
      "text/plain": [
       "Embedding(50268, 768)"
      ]
     },
     "execution_count": 2,
     "metadata": {},
     "output_type": "execute_result"
    }
   ],
   "source": [
    "# tokenizer.add_special_tokens({'cls_token': '[CLS]', 'pad_token': '[PAD]'})\n",
    "special_tokens_dict = {'additional_special_tokens': ['[document]','[related]','[information]']}\n",
    "num_added_toks = tokenizer.add_special_tokens(special_tokens_dict)\n",
    "model.resize_token_embeddings(len(tokenizer))"
   ]
  },
  {
   "cell_type": "code",
   "execution_count": 3,
   "id": "1466d6be-cda6-4622-aaa3-d2acfcc1d739",
   "metadata": {
    "tags": []
   },
   "outputs": [
    {
     "data": {
      "text/plain": [
       "3"
      ]
     },
     "execution_count": 3,
     "metadata": {},
     "output_type": "execute_result"
    }
   ],
   "source": [
    "num_added_toks"
   ]
  },
  {
   "cell_type": "code",
   "execution_count": 27,
   "id": "1d914e47-08f1-4d7e-ab2d-c7e0db9e479f",
   "metadata": {},
   "outputs": [],
   "source": [
    "input_string = [\"caesars atlantic city\", \"100 best weight watchers recipes\"]\n",
    "# input_string = \"caesars atlantic city\"\n",
    "enc_input = tokenizer(input_string, padding=True, truncation=True, max_length=tokenizer.model_max_length, return_tensors='pt')\n",
    "\n",
    "taget_string = [\"caesars atlantic city events, caesars atlantic city jobs, caesars atlantic city parking\", \"beef, butternut squash, spaghetti squash, broccoli, broccoli\"]\n",
    "# taget_string = \"caesars atlantic city events, caesars atlantic city jobs, caesars atlantic city parking\"\n",
    "dec_input = tokenizer(taget_string, padding=True, truncation=True, max_length=tokenizer.model_max_length, return_tensors='pt')"
   ]
  },
  {
   "cell_type": "code",
   "execution_count": 28,
   "id": "98c51658-6f33-4f39-b44c-8ccb89185431",
   "metadata": {},
   "outputs": [
    {
     "data": {
      "text/plain": [
       "('<s>caesars atlantic city</s>',\n",
       " '<s>caesars atlantic city events, caesars atlantic city jobs, caesars atlantic city parking</s>')"
      ]
     },
     "execution_count": 28,
     "metadata": {},
     "output_type": "execute_result"
    }
   ],
   "source": [
    "enc_input['input_ids'].shape, dec_input['input_ids'].shape\n",
    "tokenizer.decode(enc_input['input_ids'][0]), tokenizer.decode(dec_input['input_ids'][0])"
   ]
  },
  {
   "cell_type": "code",
   "execution_count": 47,
   "id": "87cb23cb-5265-4995-957a-f58a65cfb35b",
   "metadata": {},
   "outputs": [],
   "source": [
    "enc_input_ids = enc_input['input_ids']\n",
    "enc_attention_mask = enc_input['attention_mask']\n",
    "\n",
    "dec_input_ids = dec_input['input_ids']\n",
    "labels = dec_input_ids[:,:-1].clone()\n",
    "dec_input_ids = dec_input_ids[:,1:]\n",
    "dec_attention_mask = dec_input['attention_mask'][:,1:]"
   ]
  },
  {
   "cell_type": "code",
   "execution_count": 36,
   "id": "9bb13c5a-df0f-4d7e-ad2d-dddec8ed2214",
   "metadata": {},
   "outputs": [
    {
     "data": {
      "text/plain": [
       "(torch.Size([2, 27]), torch.Size([2, 27]), torch.Size([2, 27]))"
      ]
     },
     "execution_count": 36,
     "metadata": {},
     "output_type": "execute_result"
    }
   ],
   "source": [
    "dec_input_ids.shape, dec_attention_mask.shape, labels.shape"
   ]
  },
  {
   "cell_type": "code",
   "execution_count": 48,
   "id": "2348a419-0c38-4435-933e-7306b48ee6f3",
   "metadata": {},
   "outputs": [],
   "source": [
    "outputs = model(\n",
    "    input_ids=enc_input_ids,\n",
    "    attention_mask=enc_attention_mask,\n",
    "    decoder_input_ids=dec_input_ids,\n",
    "    decoder_attention_mask=dec_attention_mask,\n",
    "    labels=labels\n",
    ")"
   ]
  },
  {
   "cell_type": "code",
   "execution_count": 15,
   "id": "1a0188d6-56cc-464a-8e4d-2f9a3a11b161",
   "metadata": {},
   "outputs": [
    {
     "data": {
      "text/plain": [
       "odict_keys(['logits', 'past_key_values', 'encoder_last_hidden_state'])"
      ]
     },
     "execution_count": 15,
     "metadata": {},
     "output_type": "execute_result"
    }
   ],
   "source": [
    "outputs.keys()"
   ]
  },
  {
   "cell_type": "code",
   "execution_count": 16,
   "id": "956cb0a0-a48b-4998-b824-ec80db91c9cb",
   "metadata": {},
   "outputs": [
    {
     "data": {
      "text/plain": [
       "torch.Size([2, 27, 50265])"
      ]
     },
     "execution_count": 16,
     "metadata": {},
     "output_type": "execute_result"
    }
   ],
   "source": [
    "outputs.logits.shape"
   ]
  },
  {
   "cell_type": "code",
   "execution_count": 18,
   "id": "910abdc8-6143-4704-aacd-323eef8f74b5",
   "metadata": {},
   "outputs": [
    {
     "data": {
      "text/plain": [
       "torch.Size([2, 27])"
      ]
     },
     "execution_count": 18,
     "metadata": {},
     "output_type": "execute_result"
    }
   ],
   "source": []
  },
  {
   "cell_type": "code",
   "execution_count": 25,
   "id": "acc16b65-c4e9-460e-94d7-57392f5bf12b",
   "metadata": {},
   "outputs": [],
   "source": [
    "# test_string = \"caesars atlantic city:\"\n",
    "# inputs = tokenizer([test_string], max_length=1024, return_tensors=\"pt\")\n",
    "\n",
    "# gen_ids = model.generate(inputs[\"input_ids\"], num_beams=2, min_length=0, max_length=20)\n",
    "# tokenizer.batch_decode(gen_ids, skip_special_tokens=True)[0]"
   ]
  },
  {
   "cell_type": "markdown",
   "id": "63755ed4-c911-40bd-973a-ece2b0c983d0",
   "metadata": {},
   "source": [
    "## 파일로 로딩"
   ]
  },
  {
   "cell_type": "code",
   "execution_count": null,
   "id": "07634fbe-2099-4a15-be85-45c10606c176",
   "metadata": {},
   "outputs": [],
   "source": [
    "from transformers import AutoTokenizer, BartForConditionalGeneration\n",
    "\n",
    "model_path = \"/home/jovyan/hdfs-jmt-rungjoo-private/huggingface_models/bart-base\"\n",
    "# model_path = \"facebook/bart-base\"\n",
    "model = BartForConditionalGeneration.from_pretrained(model_path)\n",
    "tokenizer = AutoTokenizer.from_pretrained(model_path) # facebook/bart-base"
   ]
  },
  {
   "cell_type": "code",
   "execution_count": 2,
   "id": "00815715-67b4-4925-89a7-57bd9a9e1d0d",
   "metadata": {},
   "outputs": [],
   "source": [
    "from dataloader import data_loader\n",
    "dataset = data_loader(\"data/test.json\", model_path)"
   ]
  },
  {
   "cell_type": "code",
   "execution_count": 3,
   "id": "162cf85c-efc8-4231-aba6-5d4f8cd790e6",
   "metadata": {},
   "outputs": [
    {
     "data": {
      "text/plain": [
       "{'query': 'caesars atlantic city',\n",
       " 'facet': ['caesars atlantic city events',\n",
       "  'caesars atlantic city jobs',\n",
       "  'caesars atlantic city parking'],\n",
       " 'options_overall_label': 1,\n",
       " 'document': ['Caesars Atlantic City Disappointed, frustrated, miserable Worst hotel experience My kids wanted to experience Atlantic City so book Caesar’s base on advertising it was a nightmare for my kids, room and bathroom nasty, holes in rags and towels dingy like been using for the past...',\n",
       "  'Now $55 (Was $̶1̶1̶4̶) on Tripadvisor: Caesars Atlantic City, Atlantic City. See 18,311 traveler reviews, 1,818 candid photos, and great deals for Caesars Atlantic City, ranked #3 of 50 hotels in Atlantic City and rated 4 of 5 at Tripadvisor.',\n",
       "  'Book the Caesars Atlantic City Resort  Casino - Stay at this 4-star beach resort in Atlantic City. Enjoy free WiFi, an outdoor pool, and 10 restaurants. Our guests praise the restaurant and the comfy rooms in our reviews. Popular attractions Ballys Atlantic City Casino and Boardwalk Hall are located nearby. Discover genuine guest reviews for Caesars Atlantic City Resort  Casino along with ...',\n",
       "  'Caesars Atlantic City Casino: Address, Phone Number, Caesars Atlantic City Casino Reviews: 4/5',\n",
       "  'Caesars Casino, Atlantic City, NJ. Wikimedia Commons. Mindful of safety measures caused by Covid-19, Caesars, Bally’s, and Harrah’s Resort have rearranged slot machine banks to allow for ...',\n",
       "  'ATLANTIC CITY, N.J., June 26, 2020 /PRNewswire/ -- In anticipation of New Jersey Governor Phil Murphys order authorizing the reopening of Atlantic City casinos, Ballys, Caesars, and Harrahs Resort will re-open on Friday, July 3 rd, just in time for the Fourth of July holiday.*',\n",
       "  'Caesars Atlantic City is a luxury hotel, casino, and spa resort in Atlantic City, New Jersey.Like Caesars Palace in Las Vegas, it has an ancient Roman and ancient Greek theme. Atlantic Citys second casino, it opened in 1979 as the Caesars Boardwalk Regency. The 124,720 sq ft (11,587 m 2). casino has over 3,400 slot machines, and is one of the largest in Atlantic City.',\n",
       "  'Caesars welcomes those that are of legal casino gambling age to our website. CaesarsCasino.com is owned by Caesars Interactive Entertainment, Inc. Caesars Atlantic City, 2100 Pacific Avenue Atlantic City, NJ 08401',\n",
       "  'Welcome to Caesars Rewards ®, the casino industrys most popular loyalty program!'],\n",
       " 'related': ['caesar atlantic city hotels',\n",
       "  'ceaser palace hotels',\n",
       "  'atlantic city casinos',\n",
       "  'caesars las vegas',\n",
       "  'caesars atlantic city parking fee',\n",
       "  'casinos in atlantic city nj',\n",
       "  'are atlantic city casinos open',\n",
       "  'ceaser atlantic city casinos entertainment']}"
      ]
     },
     "execution_count": 3,
     "metadata": {},
     "output_type": "execute_result"
    }
   ],
   "source": [
    "dataset[0]"
   ]
  },
  {
   "cell_type": "code",
   "execution_count": 4,
   "id": "17af0a76-2f65-4810-8144-c46412a77b9b",
   "metadata": {},
   "outputs": [],
   "source": [
    "from torch.utils.data import DataLoader\n",
    "dataloader = DataLoader(dataset, batch_size=2, shuffle=True, num_workers=4, collate_fn=dataset.collate_fn)"
   ]
  },
  {
   "cell_type": "code",
   "execution_count": 5,
   "id": "a5973e03-7e78-4ece-8109-61693cfe10b4",
   "metadata": {},
   "outputs": [],
   "source": [
    "for line in dataloader:\n",
    "    enc_input_ids, enc_attention_mask, dec_input_ids, dec_attention_mask, labels = line\n",
    "    break"
   ]
  },
  {
   "cell_type": "code",
   "execution_count": 6,
   "id": "238bc2c6-8a2b-4069-a9af-f420364a7839",
   "metadata": {},
   "outputs": [],
   "source": [
    "outputs = model(\n",
    "    input_ids=enc_input_ids,\n",
    "    attention_mask=enc_attention_mask,\n",
    "    decoder_input_ids=dec_input_ids,\n",
    "    decoder_attention_mask=dec_attention_mask,\n",
    "    labels=labels\n",
    ")"
   ]
  },
  {
   "cell_type": "code",
   "execution_count": 8,
   "id": "e9f3e5be-ec3c-4542-8ea8-74b46fc46110",
   "metadata": {},
   "outputs": [
    {
     "data": {
      "text/plain": [
       "odict_keys(['loss', 'logits', 'encoder_last_hidden_state'])"
      ]
     },
     "execution_count": 8,
     "metadata": {},
     "output_type": "execute_result"
    }
   ],
   "source": [
    "outputs.keys()"
   ]
  },
  {
   "cell_type": "code",
   "execution_count": 10,
   "id": "f87d48c7-0248-43ff-b4e2-b3f95713aa6c",
   "metadata": {},
   "outputs": [],
   "source": [
    "import torch\n",
    "device = torch.device(\"cuda\" if torch.cuda.is_available() else 'cpu')"
   ]
  },
  {
   "cell_type": "code",
   "execution_count": 13,
   "id": "10211844-e3df-4c13-9b59-d27867854de4",
   "metadata": {},
   "outputs": [
    {
     "data": {
      "text/plain": [
       "tensor([[    0,   366,  1999,  3471,     6, 33141,   118,  3471,     6, 12668,\n",
       "             6,  5565,     2,     1],\n",
       "        [    0,  3209,   857,  4334, 15750,    13,  1392,     6,   364, 18707,\n",
       "          1637, 15750,    13,  1392]], device='cuda:0')"
      ]
     },
     "execution_count": 13,
     "metadata": {},
     "output_type": "execute_result"
    }
   ],
   "source": [
    "enc_input_ids = enc_input_ids.to(device)\n",
    "enc_attention_mask.to(device)\n",
    "dec_input_ids.to(device)\n",
    "dec_attention_mask.to(device)\n",
    "labels.to(device)"
   ]
  },
  {
   "cell_type": "code",
   "execution_count": 14,
   "id": "1b71ad3a-9d5d-439e-8341-62470295bbd5",
   "metadata": {},
   "outputs": [
    {
     "data": {
      "text/plain": [
       "tensor([[    0,  9502,  2887, 14506,     2,     1,     1],\n",
       "        [    0,  3209,   857, 15750,    13,  1392,     2]], device='cuda:0')"
      ]
     },
     "execution_count": 14,
     "metadata": {},
     "output_type": "execute_result"
    }
   ],
   "source": [
    "enc_input_ids"
   ]
  },
  {
   "cell_type": "code",
   "execution_count": null,
   "id": "73cdb46c-62f2-4c5d-8150-f9149999806d",
   "metadata": {},
   "outputs": [],
   "source": []
  }
 ],
 "metadata": {
  "kernelspec": {
   "display_name": "venv_main",
   "language": "python",
   "name": "venv_main"
  },
  "language_info": {
   "codemirror_mode": {
    "name": "ipython",
    "version": 3
   },
   "file_extension": ".py",
   "mimetype": "text/x-python",
   "name": "python",
   "nbconvert_exporter": "python",
   "pygments_lexer": "ipython3",
   "version": "3.9.10"
  }
 },
 "nbformat": 4,
 "nbformat_minor": 5
}
