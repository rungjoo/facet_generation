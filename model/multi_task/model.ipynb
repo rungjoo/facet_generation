{
 "cells": [
  {
   "cell_type": "markdown",
   "id": "63755ed4-c911-40bd-973a-ece2b0c983d0",
   "metadata": {},
   "source": [
    "## 파일로 로딩"
   ]
  },
  {
   "cell_type": "code",
   "execution_count": 1,
   "id": "07634fbe-2099-4a15-be85-45c10606c176",
   "metadata": {
    "tags": []
   },
   "outputs": [
    {
     "name": "stderr",
     "output_type": "stream",
     "text": [
      "/home/jovyan/workspace-main/venv_main/lib/python3.8/site-packages/tqdm/auto.py:21: TqdmWarning: IProgress not found. Please update jupyter and ipywidgets. See https://ipywidgets.readthedocs.io/en/stable/user_install.html\n",
      "  from .autonotebook import tqdm as notebook_tqdm\n"
     ]
    }
   ],
   "source": [
    "from transformers import AutoTokenizer, BartForConditionalGeneration\n",
    "\n",
    "task_name = \"rationale\"\n",
    "model_path = f\"/home/jovyan/hdfs-jmt-rungjoo-private/save_models/facet/multi_task/{task_name}\"\n",
    "\n",
    "model = BartForConditionalGeneration.from_pretrained(model_path)        \n",
    "model = model.cuda()\n",
    "model.eval()\n",
    "tokenizer = AutoTokenizer.from_pretrained(model_path)"
   ]
  },
  {
   "cell_type": "code",
   "execution_count": 3,
   "id": "00815715-67b4-4925-89a7-57bd9a9e1d0d",
   "metadata": {
    "tags": []
   },
   "outputs": [],
   "source": [
    "import json\n",
    "with open(\"../../data/test.json\", 'r', encoding='utf-8') as f:\n",
    "    test_data = json.load(f)"
   ]
  },
  {
   "cell_type": "code",
   "execution_count": 13,
   "id": "9d763db4-fd75-4cbb-8e79-c93e9e6e07de",
   "metadata": {
    "tags": []
   },
   "outputs": [],
   "source": [
    "import torch\n",
    "device = torch.device(\"cuda\" if torch.cuda.is_available() else 'cpu')\n",
    "test_result = {}\n",
    "for k, data in test_data.items():\n",
    "    query = data['query']\n",
    "    options_overall_label = data['options_overall_label']\n",
    "    gt_facet_list = data['facet']\n",
    "\n",
    "    f_string = f\"[facet] {query}\"\n",
    "\n",
    "    inputs = tokenizer(f_string, padding=True, truncation=True, max_length=tokenizer.model_max_length, return_tensors='pt', add_special_tokens=False)\n",
    "    inputs.to(device)    \n",
    "\n",
    "    token_ids = model.generate(inputs[\"input_ids\"], max_length=tokenizer.model_max_length)\n",
    "    pred_facet_string = tokenizer.decode(token_ids[0], skip_special_tokens=True)\n",
    "    pred_facet_list = [x.strip() for x in pred_facet_string.split(\"|\")]\n",
    "\n",
    "    test_result[k] = {}\n",
    "    test_result[k]['query'] = query\n",
    "    test_result[k]['pred'] = [x for x in pred_facet_list if x.strip() != \"\"]\n",
    "    test_result[k]['label'] = gt_facet_list\n",
    "    test_result[k]['options_overall_label'] = options_overall_label        \n",
    "    \n",
    "    break"
   ]
  },
  {
   "cell_type": "code",
   "execution_count": 15,
   "id": "5315b5f6-d210-4ab4-a34d-2be4cc8dc154",
   "metadata": {
    "tags": []
   },
   "outputs": [
    {
     "data": {
      "text/plain": [
       "{'input_ids': tensor([[50265,  6056,   293,  2726,    23,   462, 26970,   343]],\n",
       "       device='cuda:0'), 'attention_mask': tensor([[1, 1, 1, 1, 1, 1, 1, 1]], device='cuda:0')}"
      ]
     },
     "execution_count": 15,
     "metadata": {},
     "output_type": "execute_result"
    }
   ],
   "source": [
    "inputs"
   ]
  },
  {
   "cell_type": "code",
   "execution_count": 16,
   "id": "d589956f-966f-428b-9a4e-cda68f522131",
   "metadata": {
    "tags": []
   },
   "outputs": [
    {
     "data": {
      "text/plain": [
       "{'input_ids': tensor([[50265,  6056,   293,  2726,    23,   462, 26970,   343]]), 'attention_mask': tensor([[1, 1, 1, 1, 1, 1, 1, 1]])}"
      ]
     },
     "execution_count": 16,
     "metadata": {},
     "output_type": "execute_result"
    }
   ],
   "source": [
    "f_string = f\"[facet] {query}\"\n",
    "tokenizer(f_string, padding=True, truncation=True, max_length=tokenizer.model_max_length, return_tensors='pt', add_special_tokens=False)"
   ]
  },
  {
   "cell_type": "code",
   "execution_count": 17,
   "id": "9dfe6675-28d2-4858-8b2b-fd36568939b3",
   "metadata": {
    "tags": []
   },
   "outputs": [
    {
     "data": {
      "text/plain": [
       "{'input_ids': tensor([[50268,  6056,   293,  2726,    23,   462, 26970,   343]]), 'attention_mask': tensor([[1, 1, 1, 1, 1, 1, 1, 1]])}"
      ]
     },
     "execution_count": 17,
     "metadata": {},
     "output_type": "execute_result"
    }
   ],
   "source": [
    "f_string = f\"[rationale] {query}\"\n",
    "tokenizer(f_string, padding=True, truncation=True, max_length=tokenizer.model_max_length, return_tensors='pt', add_special_tokens=False)"
   ]
  },
  {
   "cell_type": "code",
   "execution_count": null,
   "id": "72623fd3-afbd-49f1-bfc9-89c864a1edd7",
   "metadata": {},
   "outputs": [],
   "source": []
  }
 ],
 "metadata": {
  "kernelspec": {
   "display_name": "venv_main",
   "language": "python",
   "name": "venv_main"
  },
  "language_info": {
   "codemirror_mode": {
    "name": "ipython",
    "version": 3
   },
   "file_extension": ".py",
   "mimetype": "text/x-python",
   "name": "python",
   "nbconvert_exporter": "python",
   "pygments_lexer": "ipython3",
   "version": "3.8.10"
  }
 },
 "nbformat": 4,
 "nbformat_minor": 5
}
