{
 "cells": [
  {
   "cell_type": "code",
   "execution_count": 24,
   "id": "3f6aadd0-593f-4eb5-8880-dda5bc525947",
   "metadata": {
    "tags": []
   },
   "outputs": [],
   "source": [
    "import json\n",
    "with open(\"../../data/train.json\", 'r', encoding='utf-8') as f:\n",
    "    train_data = json.load(f)"
   ]
  },
  {
   "cell_type": "code",
   "execution_count": 7,
   "id": "98e69c17-f47e-4a6f-82eb-8bd62e32c1b6",
   "metadata": {
    "tags": []
   },
   "outputs": [
    {
     "data": {
      "text/plain": [
       "dict_keys(['query', 'facet', 'document', 'related'])"
      ]
     },
     "execution_count": 7,
     "metadata": {},
     "output_type": "execute_result"
    }
   ],
   "source": [
    "train_data['0'].keys()"
   ]
  },
  {
   "cell_type": "code",
   "execution_count": 28,
   "id": "5767a780-e9f1-48e6-9dfc-f00be3f8534c",
   "metadata": {
    "tags": []
   },
   "outputs": [
    {
     "name": "stdout",
     "output_type": "stream",
     "text": [
      "414199\n",
      "414362\n"
     ]
    }
   ],
   "source": [
    "# for ind, data in train_data.items():\n",
    "#     query = data['query']\n",
    "#     if 'document' in data:\n",
    "#         document = data['document']\n",
    "#         if len(document) == 0:\n",
    "#             break\n",
    "            \n",
    "num = 0\n",
    "filter_data = []\n",
    "for i in range(len(train_data)):\n",
    "    data = train_data[str(i)]\n",
    "    try:\n",
    "        query= data['query']\n",
    "        facet = data['facet']\n",
    "        document = data['document']\n",
    "        related= data['related']\n",
    "        \n",
    "        if len(document) != 0 or len(related) != 0:\n",
    "            filter_data.append(data)\n",
    "    except:\n",
    "        pass\n",
    "    \n",
    "print(len(filter_data))\n",
    "print(len(dataset))            "
   ]
  },
  {
   "cell_type": "code",
   "execution_count": 6,
   "id": "c4b837f1-659d-4d82-a817-d8d1cec4eed2",
   "metadata": {},
   "outputs": [
    {
     "data": {
      "text/plain": [
       "('beef, butternut squash, spaghetti squash, broccoli, broccoli',\n",
       " '1016 lofts, 1016 house, 1016 apartments')"
      ]
     },
     "execution_count": 6,
     "metadata": {},
     "output_type": "execute_result"
    }
   ],
   "source": [
    "\", \".join(train_data['400']['facet']), \", \".join(train_data['500']['facet'])"
   ]
  },
  {
   "cell_type": "code",
   "execution_count": 8,
   "id": "517667e5-6061-4dde-bf30-51e07bbb2ea3",
   "metadata": {},
   "outputs": [],
   "source": [
    "import json\n",
    "with open(\"data/test.json\", 'r', encoding='utf-8') as f:\n",
    "    test_data = json.load(f)"
   ]
  },
  {
   "cell_type": "code",
   "execution_count": 9,
   "id": "62c59221-08c2-4bca-8111-6c47f39f992e",
   "metadata": {},
   "outputs": [
    {
     "data": {
      "text/plain": [
       "{'query': 'caesars atlantic city',\n",
       " 'facet': ['caesars atlantic city events',\n",
       "  'caesars atlantic city jobs',\n",
       "  'caesars atlantic city parking'],\n",
       " 'options_overall_label': 1,\n",
       " 'document': ['Caesars Atlantic City Disappointed, frustrated, miserable Worst hotel experience My kids wanted to experience Atlantic City so book Caesar’s base on advertising it was a nightmare for my kids, room and bathroom nasty, holes in rags and towels dingy like been using for the past...',\n",
       "  'Now $55 (Was $̶1̶1̶4̶) on Tripadvisor: Caesars Atlantic City, Atlantic City. See 18,311 traveler reviews, 1,818 candid photos, and great deals for Caesars Atlantic City, ranked #3 of 50 hotels in Atlantic City and rated 4 of 5 at Tripadvisor.',\n",
       "  'Book the Caesars Atlantic City Resort  Casino - Stay at this 4-star beach resort in Atlantic City. Enjoy free WiFi, an outdoor pool, and 10 restaurants. Our guests praise the restaurant and the comfy rooms in our reviews. Popular attractions Ballys Atlantic City Casino and Boardwalk Hall are located nearby. Discover genuine guest reviews for Caesars Atlantic City Resort  Casino along with ...',\n",
       "  'Caesars Atlantic City Casino: Address, Phone Number, Caesars Atlantic City Casino Reviews: 4/5',\n",
       "  'Caesars Casino, Atlantic City, NJ. Wikimedia Commons. Mindful of safety measures caused by Covid-19, Caesars, Bally’s, and Harrah’s Resort have rearranged slot machine banks to allow for ...',\n",
       "  'ATLANTIC CITY, N.J., June 26, 2020 /PRNewswire/ -- In anticipation of New Jersey Governor Phil Murphys order authorizing the reopening of Atlantic City casinos, Ballys, Caesars, and Harrahs Resort will re-open on Friday, July 3 rd, just in time for the Fourth of July holiday.*',\n",
       "  'Caesars Atlantic City is a luxury hotel, casino, and spa resort in Atlantic City, New Jersey.Like Caesars Palace in Las Vegas, it has an ancient Roman and ancient Greek theme. Atlantic Citys second casino, it opened in 1979 as the Caesars Boardwalk Regency. The 124,720 sq ft (11,587 m 2). casino has over 3,400 slot machines, and is one of the largest in Atlantic City.',\n",
       "  'Caesars welcomes those that are of legal casino gambling age to our website. CaesarsCasino.com is owned by Caesars Interactive Entertainment, Inc. Caesars Atlantic City, 2100 Pacific Avenue Atlantic City, NJ 08401',\n",
       "  'Welcome to Caesars Rewards ®, the casino industrys most popular loyalty program!'],\n",
       " 'related': ['caesar atlantic city hotels',\n",
       "  'ceaser palace hotels',\n",
       "  'atlantic city casinos',\n",
       "  'caesars las vegas',\n",
       "  'caesars atlantic city parking fee',\n",
       "  'casinos in atlantic city nj',\n",
       "  'are atlantic city casinos open',\n",
       "  'ceaser atlantic city casinos entertainment']}"
      ]
     },
     "execution_count": 9,
     "metadata": {},
     "output_type": "execute_result"
    }
   ],
   "source": [
    "test_data['0']"
   ]
  },
  {
   "cell_type": "code",
   "execution_count": 1,
   "id": "04523242-eefd-4994-9d9c-e68034cde435",
   "metadata": {
    "tags": []
   },
   "outputs": [
    {
     "name": "stderr",
     "output_type": "stream",
     "text": [
      "/home1/jovyan/venv_main/lib/python3.9/site-packages/tqdm/auto.py:21: TqdmWarning: IProgress not found. Please update jupyter and ipywidgets. See https://ipywidgets.readthedocs.io/en/stable/user_install.html\n",
      "  from .autonotebook import tqdm as notebook_tqdm\n"
     ]
    }
   ],
   "source": [
    "from transformers import AutoTokenizer, BartForConditionalGeneration\n",
    "\n",
    "model_path = \"/home/jovyan/hdfs-jmt-rungjoo-private/huggingface_models/bart-base\"\n",
    "# model_path = \"facebook/bart-base\"\n",
    "model = BartForConditionalGeneration.from_pretrained(model_path)\n",
    "tokenizer = AutoTokenizer.from_pretrained(model_path) # facebook/bart-base"
   ]
  },
  {
   "cell_type": "code",
   "execution_count": 2,
   "id": "7a03bad8-0cb8-47db-a8c0-97f056bd6e72",
   "metadata": {
    "tags": []
   },
   "outputs": [
    {
     "data": {
      "text/plain": [
       "Embedding(50268, 768)"
      ]
     },
     "execution_count": 2,
     "metadata": {},
     "output_type": "execute_result"
    }
   ],
   "source": [
    "# tokenizer.add_special_tokens({'cls_token': '[CLS]', 'pad_token': '[PAD]'})\n",
    "special_tokens_dict = {'additional_special_tokens': ['[document]','[related]','[information]']}\n",
    "num_added_toks = tokenizer.add_special_tokens(special_tokens_dict)\n",
    "model.resize_token_embeddings(len(tokenizer))"
   ]
  },
  {
   "cell_type": "code",
   "execution_count": 3,
   "id": "1466d6be-cda6-4622-aaa3-d2acfcc1d739",
   "metadata": {
    "tags": []
   },
   "outputs": [
    {
     "data": {
      "text/plain": [
       "3"
      ]
     },
     "execution_count": 3,
     "metadata": {},
     "output_type": "execute_result"
    }
   ],
   "source": [
    "num_added_toks"
   ]
  },
  {
   "cell_type": "code",
   "execution_count": 27,
   "id": "1d914e47-08f1-4d7e-ab2d-c7e0db9e479f",
   "metadata": {},
   "outputs": [],
   "source": [
    "input_string = [\"caesars atlantic city\", \"100 best weight watchers recipes\"]\n",
    "# input_string = \"caesars atlantic city\"\n",
    "enc_input = tokenizer(input_string, padding=True, truncation=True, max_length=tokenizer.model_max_length, return_tensors='pt')\n",
    "\n",
    "taget_string = [\"caesars atlantic city events, caesars atlantic city jobs, caesars atlantic city parking\", \"beef, butternut squash, spaghetti squash, broccoli, broccoli\"]\n",
    "# taget_string = \"caesars atlantic city events, caesars atlantic city jobs, caesars atlantic city parking\"\n",
    "dec_input = tokenizer(taget_string, padding=True, truncation=True, max_length=tokenizer.model_max_length, return_tensors='pt')"
   ]
  },
  {
   "cell_type": "code",
   "execution_count": 28,
   "id": "98c51658-6f33-4f39-b44c-8ccb89185431",
   "metadata": {},
   "outputs": [
    {
     "data": {
      "text/plain": [
       "('<s>caesars atlantic city</s>',\n",
       " '<s>caesars atlantic city events, caesars atlantic city jobs, caesars atlantic city parking</s>')"
      ]
     },
     "execution_count": 28,
     "metadata": {},
     "output_type": "execute_result"
    }
   ],
   "source": [
    "enc_input['input_ids'].shape, dec_input['input_ids'].shape\n",
    "tokenizer.decode(enc_input['input_ids'][0]), tokenizer.decode(dec_input['input_ids'][0])"
   ]
  },
  {
   "cell_type": "code",
   "execution_count": 47,
   "id": "87cb23cb-5265-4995-957a-f58a65cfb35b",
   "metadata": {},
   "outputs": [],
   "source": [
    "enc_input_ids = enc_input['input_ids']\n",
    "enc_attention_mask = enc_input['attention_mask']\n",
    "\n",
    "dec_input_ids = dec_input['input_ids']\n",
    "labels = dec_input_ids[:,:-1].clone()\n",
    "dec_input_ids = dec_input_ids[:,1:]\n",
    "dec_attention_mask = dec_input['attention_mask'][:,1:]"
   ]
  },
  {
   "cell_type": "code",
   "execution_count": 36,
   "id": "9bb13c5a-df0f-4d7e-ad2d-dddec8ed2214",
   "metadata": {},
   "outputs": [
    {
     "data": {
      "text/plain": [
       "(torch.Size([2, 27]), torch.Size([2, 27]), torch.Size([2, 27]))"
      ]
     },
     "execution_count": 36,
     "metadata": {},
     "output_type": "execute_result"
    }
   ],
   "source": [
    "dec_input_ids.shape, dec_attention_mask.shape, labels.shape"
   ]
  },
  {
   "cell_type": "code",
   "execution_count": 48,
   "id": "2348a419-0c38-4435-933e-7306b48ee6f3",
   "metadata": {},
   "outputs": [],
   "source": [
    "outputs = model(\n",
    "    input_ids=enc_input_ids,\n",
    "    attention_mask=enc_attention_mask,\n",
    "    decoder_input_ids=dec_input_ids,\n",
    "    decoder_attention_mask=dec_attention_mask,\n",
    "    labels=labels\n",
    ")"
   ]
  },
  {
   "cell_type": "code",
   "execution_count": 15,
   "id": "1a0188d6-56cc-464a-8e4d-2f9a3a11b161",
   "metadata": {},
   "outputs": [
    {
     "data": {
      "text/plain": [
       "odict_keys(['logits', 'past_key_values', 'encoder_last_hidden_state'])"
      ]
     },
     "execution_count": 15,
     "metadata": {},
     "output_type": "execute_result"
    }
   ],
   "source": [
    "outputs.keys()"
   ]
  },
  {
   "cell_type": "code",
   "execution_count": 16,
   "id": "956cb0a0-a48b-4998-b824-ec80db91c9cb",
   "metadata": {},
   "outputs": [
    {
     "data": {
      "text/plain": [
       "torch.Size([2, 27, 50265])"
      ]
     },
     "execution_count": 16,
     "metadata": {},
     "output_type": "execute_result"
    }
   ],
   "source": [
    "outputs.logits.shape"
   ]
  },
  {
   "cell_type": "code",
   "execution_count": 18,
   "id": "910abdc8-6143-4704-aacd-323eef8f74b5",
   "metadata": {},
   "outputs": [
    {
     "data": {
      "text/plain": [
       "torch.Size([2, 27])"
      ]
     },
     "execution_count": 18,
     "metadata": {},
     "output_type": "execute_result"
    }
   ],
   "source": []
  },
  {
   "cell_type": "code",
   "execution_count": 25,
   "id": "acc16b65-c4e9-460e-94d7-57392f5bf12b",
   "metadata": {},
   "outputs": [],
   "source": [
    "# test_string = \"caesars atlantic city:\"\n",
    "# inputs = tokenizer([test_string], max_length=1024, return_tensors=\"pt\")\n",
    "\n",
    "# gen_ids = model.generate(inputs[\"input_ids\"], num_beams=2, min_length=0, max_length=20)\n",
    "# tokenizer.batch_decode(gen_ids, skip_special_tokens=True)[0]"
   ]
  },
  {
   "cell_type": "markdown",
   "id": "63755ed4-c911-40bd-973a-ece2b0c983d0",
   "metadata": {},
   "source": [
    "## 파일로 로딩"
   ]
  },
  {
   "cell_type": "code",
   "execution_count": 1,
   "id": "07634fbe-2099-4a15-be85-45c10606c176",
   "metadata": {
    "tags": []
   },
   "outputs": [
    {
     "name": "stderr",
     "output_type": "stream",
     "text": [
      "/home1/jovyan/venv_main/lib/python3.9/site-packages/tqdm/auto.py:21: TqdmWarning: IProgress not found. Please update jupyter and ipywidgets. See https://ipywidgets.readthedocs.io/en/stable/user_install.html\n",
      "  from .autonotebook import tqdm as notebook_tqdm\n"
     ]
    }
   ],
   "source": [
    "from transformers import AutoTokenizer, BartForConditionalGeneration\n",
    "\n",
    "model_path = \"/home/jovyan/hdfs-jmt-rungjoo-private/huggingface_models/bart-base\"\n",
    "# model_path = \"facebook/bart-base\"\n",
    "# model = BartForConditionalGeneration.from_pretrained(model_path)\n",
    "# tokenizer = AutoTokenizer.from_pretrained(model_path) # facebook/bart-base"
   ]
  },
  {
   "cell_type": "code",
   "execution_count": 2,
   "id": "00815715-67b4-4925-89a7-57bd9a9e1d0d",
   "metadata": {
    "tags": []
   },
   "outputs": [],
   "source": [
    "from dataloader import data_loader\n",
    "data_type = 'original'\n",
    "dataset = data_loader(\"../../data/train.json\", model_path, data_type)"
   ]
  },
  {
   "cell_type": "code",
   "execution_count": 3,
   "id": "628396f6-73ab-47b6-a351-f19a58010e8b",
   "metadata": {
    "tags": []
   },
   "outputs": [
    {
     "data": {
      "text/plain": [
       "{'query': '#HASH#value excel',\n",
       " 'facet': ['2010', '2013', '2016'],\n",
       " 'document': ['Excel: Complete row Hash Value calculated as a Numeric value in a cell on same row. 1. Is there an excel function which displays a string but outputs a value when referenced? 0. wrong value from atan2 function in excel. 0. Create a 6 digit “hash” from a file. 0.',\n",
       "  'I want to calculate the hasvalue f.e. sha256 from the values and/or the text in a specific cell or range of cells. How do i calculate this with - 290739',\n",
       "  'Microsoft MVP - Excel www.BMSLtd.co.uk ===== Option Explicit. Declare Function CryptAcquireContext Lib advapi32 Alias CryptAcquireContextA (ByRef hProv As Long, ByVal sContainer As String, _ ByVal sProvider As String, ByVal lProvType As Long, ByVal lFlags As Long) As Long',\n",
       "  'Additional Excel hash value excel 2010 selection. Excel Recovery Toolbox. As its name suggests, Excel Recovery Toolbox is a handy tool that can recover data from corrupted, damaged, or broken Excel files. This Excel repair application can process the damaged spreadsheets and extract recoverable data from them to a new Excel file.',\n",
       "  'Some people equate a hash value to a fingerprint. It provides a way of identifying and verifying a chunk of digital data. You can have a hash value for a single file, groups of files, or even an entire hard drive. A hash value is a harmless looking string of hexadecimal values, generally 32 to 64 characters long, depending on the hash algorithm ...',\n",
       "  'But I think this is pretty much enough to demonstrate that MD5 in pure Excel isnt really a good idea. share | improve this answer | follow | edited Oct 5 17 at 12:23. JKVeganAbroad. 77 1 1 silver badge 9 9 bronze badges. answered Feb 14 14 at 21:43. ttaaoossuu ttaaoossuu.',\n",
       "  'Since excel is usually a very convenient tool for reporting and data manipulation below is a an Excel file showing how to get the MD5 hash value without using VBA, just plain Excel functions! This means that you don’t have to mess with additional source code and strange warnings in Excel, when opening the file.',\n",
       "  'Notice that the phrase SpreadsheetGuru is nowhere to be found. However, there is a small 4 letter password within the code. This is Excels hash value that was created from the input of SpreadsheetGuru into its Hash Algorithm.Since Microsoft chose to make the hash length so small, there are only a limited number of combinations the hash can be (the hash is made of up of only numerical and ...',\n",
       "  'After looking around on the web at various solutions to creating a checksum/hash in excel that is either MD5 or SHA1, I was not happy with the results I had been shown, notably the spread sheet I was working on will be running on both Windows, Macintosh and both 64Bit and 32Bit versions of the operating systems, so use of DLLs or functions unless they were scripted as the base whole function ...',\n",
       "  'In my Excel sheet I have multiple rows with data from the same customer. (orange) I need to transpose this data to one row per customer, where all... Userform Crash. Started by Guard913; Jul 15, 2020; Replies: 33; My userform will crash every time if I dont have it run this line of code first... IF statement adding a day to a date from 12:00am ...'],\n",
       " 'related': ['excel hash function',\n",
       "  'excel changing numbers to hashtag',\n",
       "  'hash value definition',\n",
       "  'excel hash formula',\n",
       "  'value formulas in excel',\n",
       "  'excel value function',\n",
       "  'excel md5',\n",
       "  'find value excel']}"
      ]
     },
     "execution_count": 3,
     "metadata": {},
     "output_type": "execute_result"
    }
   ],
   "source": [
    "dataset[0]"
   ]
  },
  {
   "cell_type": "code",
   "execution_count": 4,
   "id": "17af0a76-2f65-4810-8144-c46412a77b9b",
   "metadata": {},
   "outputs": [],
   "source": [
    "from torch.utils.data import DataLoader\n",
    "dataloader = DataLoader(dataset, batch_size=2, shuffle=True, num_workers=4, collate_fn=dataset.collate_fn)"
   ]
  },
  {
   "cell_type": "code",
   "execution_count": 5,
   "id": "a5973e03-7e78-4ece-8109-61693cfe10b4",
   "metadata": {},
   "outputs": [],
   "source": [
    "for line in dataloader:\n",
    "    enc_input_ids, enc_attention_mask, dec_input_ids, dec_attention_mask, labels = line\n",
    "    break"
   ]
  },
  {
   "cell_type": "code",
   "execution_count": 6,
   "id": "238bc2c6-8a2b-4069-a9af-f420364a7839",
   "metadata": {},
   "outputs": [],
   "source": [
    "outputs = model(\n",
    "    input_ids=enc_input_ids,\n",
    "    attention_mask=enc_attention_mask,\n",
    "    decoder_input_ids=dec_input_ids,\n",
    "    decoder_attention_mask=dec_attention_mask,\n",
    "    labels=labels\n",
    ")"
   ]
  },
  {
   "cell_type": "code",
   "execution_count": 8,
   "id": "e9f3e5be-ec3c-4542-8ea8-74b46fc46110",
   "metadata": {},
   "outputs": [
    {
     "data": {
      "text/plain": [
       "odict_keys(['loss', 'logits', 'encoder_last_hidden_state'])"
      ]
     },
     "execution_count": 8,
     "metadata": {},
     "output_type": "execute_result"
    }
   ],
   "source": [
    "outputs.keys()"
   ]
  },
  {
   "cell_type": "code",
   "execution_count": null,
   "id": "73cdb46c-62f2-4c5d-8150-f9149999806d",
   "metadata": {},
   "outputs": [],
   "source": []
  }
 ],
 "metadata": {
  "kernelspec": {
   "display_name": "venv_main",
   "language": "python",
   "name": "venv_main"
  },
  "language_info": {
   "codemirror_mode": {
    "name": "ipython",
    "version": 3
   },
   "file_extension": ".py",
   "mimetype": "text/x-python",
   "name": "python",
   "nbconvert_exporter": "python",
   "pygments_lexer": "ipython3",
   "version": "3.9.10"
  }
 },
 "nbformat": 4,
 "nbformat_minor": 5
}
