{
 "cells": [
  {
   "cell_type": "code",
   "execution_count": 36,
   "id": "af5b71c2-ccd4-4b54-a746-1151361c3b9d",
   "metadata": {},
   "outputs": [],
   "source": [
    "import json\n",
    "data_path = f\"../../result/multitask_document_related.json\"\n",
    "with open(data_path, \"r\") as f:\n",
    "    dataset = json.load(f)"
   ]
  },
  {
   "cell_type": "code",
   "execution_count": null,
   "id": "06b02cd4-e835-4e7b-bdf8-df7e2ac68276",
   "metadata": {
    "tags": []
   },
   "outputs": [],
   "source": [
    "import torch\n",
    "from transformers import AutoModelForCausalLM, AutoTokenizer\n",
    "from tqdm import tqdm\n",
    "\n",
    "# model_path = \"/home/jovyan/hdfs-jmt-rungjoo-private/huggingface_models/JoSw-14/LoKuS-13B\"\n",
    "# model_path = \"/home/jovyan/hdfs-jmt-rungjoo-private/huggingface_models/AIDC-ai-business/Luban-13B\"\n",
    "# model_path = \"/home/jovyan/hdfs-jmt-rungjoo-private/huggingface_models/uukuguy/speechless-llama2-luban-orca-platypus-13b\"\n",
    "model_path = \"Open-Orca/OpenOrca-Platypus2-13B\"\n",
    "tokenizer = AutoTokenizer.from_pretrained(model_path) \n",
    "model = AutoModelForCausalLM.from_pretrained(\n",
    "    model_path,\n",
    "    device_map=\"auto\",\n",
    "    torch_dtype=torch.float16\n",
    ")"
   ]
  },
  {
   "cell_type": "code",
   "execution_count": 35,
   "id": "70b85661-f347-4bba-9843-8af2d8c8c3fb",
   "metadata": {
    "tags": []
   },
   "outputs": [
    {
     "data": {
      "text/plain": [
       "('/home/jovyan/hdfs-jmt-rungjoo-private/huggingface_models/Open-Orca/OpenOrca-Platypus2-13B/tokenizer_config.json',\n",
       " '/home/jovyan/hdfs-jmt-rungjoo-private/huggingface_models/Open-Orca/OpenOrca-Platypus2-13B/special_tokens_map.json',\n",
       " '/home/jovyan/hdfs-jmt-rungjoo-private/huggingface_models/Open-Orca/OpenOrca-Platypus2-13B/tokenizer.json')"
      ]
     },
     "execution_count": 35,
     "metadata": {},
     "output_type": "execute_result"
    }
   ],
   "source": [
    "save_path = \"/home/jovyan/hdfs-jmt-rungjoo-private/huggingface_models/Open-Orca/OpenOrca-Platypus2-13B\"\n",
    "model.save_pretrained(save_path)\n",
    "tokenizer.save_pretrained(save_path)"
   ]
  },
  {
   "cell_type": "code",
   "execution_count": 39,
   "id": "e4ad73ef-585d-4985-a9c2-45b4b96692a9",
   "metadata": {
    "tags": []
   },
   "outputs": [],
   "source": [
    "# def make_prompt(query, pred_facets, method):\n",
    "#     if method == \"post\":\n",
    "#         one_shot = \"\"\"### User:\\nThe predicted facets for 'caesars atlantic city' are 'parking, hotels'. But the correct facets are 'caesars atlantic city events, caesars atlantic city jobs, caesars atlantic city parking'\\n\"\"\"\n",
    "#         two_shot = \"\"\"The predicted facets for 'vista, ca' are 'parking, hotels'. But the correct facets are 'weather, zip code, population, homes for sale'\\n\\n\"\"\"\n",
    "#         prompt = one_shot + two_shot + f\"\"\"As in the example above, modify the predicted facets.\\nThe predicted facets for '{query}' are '{pred_facets}'. What are the correct facets?\\n\\n### Assistant:\\nThe correct facets for '{query}' are\"\"\"    \n",
    "#     else: # unseen\n",
    "#         one_shot = \"\"\"### User:\\nThe facets for 'caesars atlantic city' are 'caesars atlantic city events, caesars atlantic city jobs, caesars atlantic city parking'\\n\"\"\"\n",
    "#         two_shot = \"\"\"The facets for 'vista, ca' are 'weather, zip code, population, homes for sale'\\n\\n\"\"\"\n",
    "#         prompt = one_shot + two_shot + f\"\"\"### Assistant:\\nThe correct facets for '{query}' are\"\"\"    \n",
    "    \n",
    "#     return prompt\n",
    "\n",
    "def make_prompt(query, pred_facets, method):\n",
    "    if method == \"post\":\n",
    "        one_shot = \"\"\"### Instruction:\\nThe predicted facets for 'caesars atlantic city' are 'parking, hotels'. But the correct facets are 'caesars atlantic city events, caesars atlantic city jobs, caesars atlantic city parking'\\n\"\"\"\n",
    "        two_shot = \"\"\"The predicted facets for 'vista, ca' are 'parking, hotels'. But the correct facets are 'weather, zip code, population, homes for sale'\\n\\n\"\"\"\n",
    "        prompt = one_shot + two_shot + f\"\"\"As in the example above, modify the predicted facets.\\nThe predicted facets for '{query}' are '{pred_facets}'. What are the correct facets?\\n\\n### Response:\\nThe correct facets for '{query}' are\"\"\"    \n",
    "    else: # unseen\n",
    "        one_shot = \"\"\"### Instruction:\\nThe facets for 'caesars atlantic city' are 'caesars atlantic city events, caesars atlantic city jobs, caesars atlantic city parking'\\n\"\"\"\n",
    "        two_shot = \"\"\"The facets for 'vista, ca' are 'weather, zip code, population, homes for sale'\\n\\n\"\"\"\n",
    "        prompt = one_shot + two_shot + f\"\"\"### Response:\\nThe correct facets for '{query}' are\"\"\"    \n",
    "    \n",
    "    return prompt"
   ]
  },
  {
   "cell_type": "code",
   "execution_count": 40,
   "id": "d20b3d34-41c6-499d-b5be-73659a236953",
   "metadata": {},
   "outputs": [
    {
     "name": "stdout",
     "output_type": "stream",
     "text": [
      "### Instruction:\n",
      "The predicted facets for 'caesars atlantic city' are 'parking, hotels'. But the correct facets are 'caesars atlantic city events, caesars atlantic city jobs, caesars atlantic city parking'\n",
      "The predicted facets for 'vista, ca' are 'parking, hotels'. But the correct facets are 'weather, zip code, population, homes for sale'\n",
      "\n",
      "As in the example above, modify the predicted facets.\n",
      "The predicted facets for 'new caledonia' are 'population, new caledonia zip code'. What are the correct facets?\n",
      "\n",
      "### Response:\n",
      "The correct facets for 'new caledonia' are\n",
      " 'geography, population, economy, culture, history, politics, new caledonia zip code'.\n",
      "['geography', 'population', 'economy', 'culture', 'history', 'politics', 'new caledonia zip code']\n",
      "### Label:\n",
      "['new caledonia population', 'new caledonia flag', 'time in new caledonia', 'new caledonia news']\n",
      "0.8123161792755127\n"
     ]
    }
   ],
   "source": [
    "import re\n",
    "eng_rule = re.compile(r\"\\'[a-zA-Z\\s,]+\\'\")\n",
    "\n",
    "import time\n",
    "for ind, data in dataset.items():\n",
    "    if int(ind) > 8:\n",
    "        st = time.time()\n",
    "        query = data['query']\n",
    "        pred_facet_list = data['pred']\n",
    "        pred_facets = \", \".join(pred_facet_list)\n",
    "\n",
    "        method = \"post\"\n",
    "        prompt = make_prompt(query, pred_facets, method)\n",
    "        print(prompt)\n",
    "        \n",
    "        inputs = tokenizer(prompt, return_tensors=\"pt\").to(model.device)\n",
    "        \n",
    "        label_str = \", \".join(data['label'])\n",
    "        label_inputs = tokenizer(label_str, return_tensors=\"pt\")\n",
    "        label_len = label_inputs['input_ids'].shape[1]\n",
    "\n",
    "        output = model.generate(**inputs, use_cache=True, max_new_tokens=int(label_len*2), temperature=0, top_p=1)\n",
    "        \n",
    "        output = tokenizer.decode(output[0], skip_special_tokens=True)\n",
    "        correct_facets = output[len(prompt):]\n",
    "        matches = eng_rule.findall(correct_facets.strip())\n",
    "        if len(matches) == 1:\n",
    "            correct_facet_list = [x.strip() for x in matches[0].strip(\"'\").split(\",\") if x.strip() != \"\"]\n",
    "        else:\n",
    "            correct_facet_list = [x.strip() for x in correct_facets.strip().split(\"\\n\")[0].strip(\"'\").strip(\".\").strip(\"'\").split(\",\") if x.strip() != \"\"]        \n",
    "        print(correct_facets)\n",
    "        print(correct_facet_list)\n",
    "        \n",
    "        print(\"### Label:\")\n",
    "        print(data['label'])\n",
    "        ed = time.time()\n",
    "        print(ed-st)\n",
    "        break"
   ]
  },
  {
   "cell_type": "code",
   "execution_count": 33,
   "id": "c373a350-2607-437d-96da-13feb61e3d4c",
   "metadata": {
    "tags": []
   },
   "outputs": [
    {
     "ename": "IndexError",
     "evalue": "list index out of range",
     "output_type": "error",
     "traceback": [
      "\u001b[0;31m---------------------------------------------------------------------------\u001b[0m",
      "\u001b[0;31mIndexError\u001b[0m                                Traceback (most recent call last)",
      "Cell \u001b[0;32mIn[33], line 4\u001b[0m\n\u001b[1;32m      2\u001b[0m matches \u001b[38;5;241m=\u001b[39m test_rule\u001b[38;5;241m.\u001b[39mfindall(correct_facets\u001b[38;5;241m.\u001b[39mstrip())\n\u001b[1;32m      3\u001b[0m matches \u001b[38;5;241m=\u001b[39m eng_rule\u001b[38;5;241m.\u001b[39mfindall(correct_facets\u001b[38;5;241m.\u001b[39mstrip())\n\u001b[0;32m----> 4\u001b[0m correct_facet_list \u001b[38;5;241m=\u001b[39m [x\u001b[38;5;241m.\u001b[39mstrip() \u001b[38;5;28;01mfor\u001b[39;00m x \u001b[38;5;129;01min\u001b[39;00m \u001b[43mmatches\u001b[49m\u001b[43m[\u001b[49m\u001b[38;5;241;43m0\u001b[39;49m\u001b[43m]\u001b[49m\u001b[38;5;241m.\u001b[39mstrip(\u001b[38;5;124m\"\u001b[39m\u001b[38;5;124m'\u001b[39m\u001b[38;5;124m\"\u001b[39m)\u001b[38;5;241m.\u001b[39msplit(\u001b[38;5;124m\"\u001b[39m\u001b[38;5;124m,\u001b[39m\u001b[38;5;124m\"\u001b[39m) \u001b[38;5;28;01mif\u001b[39;00m x\u001b[38;5;241m.\u001b[39mstrip() \u001b[38;5;241m!=\u001b[39m \u001b[38;5;124m\"\u001b[39m\u001b[38;5;124m\"\u001b[39m]\n",
      "\u001b[0;31mIndexError\u001b[0m: list index out of range"
     ]
    }
   ],
   "source": [
    "test_rule = re.compile(r\"\\'.+\\'\")\n",
    "matches = test_rule.findall(correct_facets.strip())\n",
    "matches = eng_rule.findall(correct_facets.strip())\n",
    "correct_facet_list = [x.strip() for x in matches[0].strip(\"'\").split(\",\") if x.strip() != \"\"]"
   ]
  },
  {
   "cell_type": "code",
   "execution_count": 28,
   "id": "abed403f-c98d-4814-8923-c7476b996144",
   "metadata": {},
   "outputs": [],
   "source": [
    "correct_facets = \"'airplane models, airplane parts, airplane manufacturers, airplane history, airplane maintenance, airplane safety, airplane sales, airplane leasing, airplane charter, airplane travel, airplane types, airplane engines, airplane interiors, airplane acquisitions, airplane financing, airplane insurance, airplane certifications, airplane regulations, airplane news, airplane reviews, airplane jobs, airplane training,\""
   ]
  },
  {
   "cell_type": "code",
   "execution_count": 31,
   "id": "65d62819-eba5-447d-927a-d1306badf509",
   "metadata": {},
   "outputs": [],
   "source": [
    "correct_facet_list = [x.strip() for x in correct_facets.strip().split(\"\\n\")[0].strip(\"'\").strip(\".\").strip(\"'\").split(\",\") if x.strip() != \"\"]"
   ]
  },
  {
   "cell_type": "code",
   "execution_count": 32,
   "id": "e2bf8fd5-82d5-413e-88b2-64dbe7f4bedb",
   "metadata": {
    "tags": []
   },
   "outputs": [
    {
     "data": {
      "text/plain": [
       "['airplane models',\n",
       " 'airplane parts',\n",
       " 'airplane manufacturers',\n",
       " 'airplane history',\n",
       " 'airplane maintenance',\n",
       " 'airplane safety',\n",
       " 'airplane sales',\n",
       " 'airplane leasing',\n",
       " 'airplane charter',\n",
       " 'airplane travel',\n",
       " 'airplane types',\n",
       " 'airplane engines',\n",
       " 'airplane interiors',\n",
       " 'airplane acquisitions',\n",
       " 'airplane financing',\n",
       " 'airplane insurance',\n",
       " 'airplane certifications',\n",
       " 'airplane regulations',\n",
       " 'airplane news',\n",
       " 'airplane reviews',\n",
       " 'airplane jobs',\n",
       " 'airplane training']"
      ]
     },
     "execution_count": 32,
     "metadata": {},
     "output_type": "execute_result"
    }
   ],
   "source": [
    "correct_facet_list"
   ]
  },
  {
   "cell_type": "code",
   "execution_count": null,
   "id": "13951fc9-9040-4381-8e69-0af5b1e7cde3",
   "metadata": {},
   "outputs": [],
   "source": []
  }
 ],
 "metadata": {
  "kernelspec": {
   "display_name": "venv_main",
   "language": "python",
   "name": "venv_main"
  },
  "language_info": {
   "codemirror_mode": {
    "name": "ipython",
    "version": 3
   },
   "file_extension": ".py",
   "mimetype": "text/x-python",
   "name": "python",
   "nbconvert_exporter": "python",
   "pygments_lexer": "ipython3",
   "version": "3.8.10"
  }
 },
 "nbformat": 4,
 "nbformat_minor": 5
}
