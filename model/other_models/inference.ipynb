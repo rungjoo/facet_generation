{
 "cells": [
  {
   "cell_type": "code",
   "execution_count": null,
   "id": "3c392c44-34a2-42ce-92bd-f6eab3d1fe61",
   "metadata": {
    "tags": []
   },
   "outputs": [],
   "source": [
    "from faspect import Faspect\n",
    "\n",
    "facet_extractor = Faspect()"
   ]
  },
  {
   "cell_type": "code",
   "execution_count": 2,
   "id": "e691ae51-ae68-4084-847b-a37f0ca66faa",
   "metadata": {},
   "outputs": [
    {
     "data": {
      "application/json": {
       "ascii": false,
       "bar_format": null,
       "colour": null,
       "elapsed": 0.007993698120117188,
       "initial": 0,
       "n": 0,
       "ncols": null,
       "nrows": null,
       "postfix": null,
       "prefix": "Generating outputs",
       "rate": null,
       "total": 1,
       "unit": "it",
       "unit_divisor": 1000,
       "unit_scale": false
      },
      "application/vnd.jupyter.widget-view+json": {
       "model_id": "275038d6177145d1b8818fa88ce34a95",
       "version_major": 2,
       "version_minor": 0
      },
      "text/plain": [
       "Generating outputs:   0%|          | 0/1 [00:00<?, ?it/s]"
      ]
     },
     "metadata": {},
     "output_type": "display_data"
    },
    {
     "data": {
      "application/json": {
       "ascii": false,
       "bar_format": null,
       "colour": null,
       "elapsed": 0.004277944564819336,
       "initial": 0,
       "n": 0,
       "ncols": null,
       "nrows": null,
       "postfix": null,
       "prefix": "Generating outputs",
       "rate": null,
       "total": 1,
       "unit": "it",
       "unit_divisor": 1000,
       "unit_scale": false
      },
      "application/vnd.jupyter.widget-view+json": {
       "model_id": "1e49b15ebe29421d8045a7024d279697",
       "version_major": 2,
       "version_minor": 0
      },
      "text/plain": [
       "Generating outputs:   0%|          | 0/1 [00:00<?, ?it/s]"
      ]
     },
     "metadata": {},
     "output_type": "display_data"
    },
    {
     "ename": "TypeError",
     "evalue": "'NoneType' object is not iterable",
     "output_type": "error",
     "traceback": [
      "\u001b[0;31m---------------------------------------------------------------------------\u001b[0m",
      "\u001b[0;31mTypeError\u001b[0m                                 Traceback (most recent call last)",
      "Cell \u001b[0;32mIn[2], line 8\u001b[0m\n\u001b[1;32m      3\u001b[0m \u001b[38;5;66;03m# documents = [\"Shop new & used cars, research & compare models, find local dealers/sellers,calculate payments, value your car, sell/trade in your car & more at Cars.com.\",\u001b[39;00m\n\u001b[1;32m      4\u001b[0m \u001b[38;5;66;03m#              \"Search over 48789 used Cars in Amherst, MA. TrueCar has over 861570 listings nationwide, updated daily. Come find a great deal on used Cars in Amherst today!\",\u001b[39;00m\n\u001b[1;32m      5\u001b[0m \u001b[38;5;66;03m#              \"Cars is a 2006 American computer-animated sports comedy film produced by Pixar Animation Studios and released by Walt Disney Pictures.\",\u001b[39;00m\n\u001b[1;32m      6\u001b[0m \u001b[38;5;66;03m#              \"Search for used cars at carmax.com. Use our car search or research makes and models with customer reviews, expert reviews, and more.\"]\u001b[39;00m\n\u001b[1;32m      7\u001b[0m documents \u001b[38;5;241m=\u001b[39m \u001b[38;5;28;01mNone\u001b[39;00m\n\u001b[0;32m----> 8\u001b[0m facets \u001b[38;5;241m=\u001b[39m \u001b[43mfacet_extractor\u001b[49m\u001b[38;5;241;43m.\u001b[39;49m\u001b[43mextract_facets\u001b[49m\u001b[43m(\u001b[49m\u001b[43mquery\u001b[49m\u001b[43m,\u001b[49m\u001b[43m \u001b[49m\n\u001b[1;32m      9\u001b[0m \u001b[43m                                        \u001b[49m\u001b[43mdocuments\u001b[49m\u001b[43m,\u001b[49m\n\u001b[1;32m     10\u001b[0m \u001b[43m                                        \u001b[49m\u001b[43maggregation\u001b[49m\u001b[38;5;241;43m=\u001b[39;49m\u001b[38;5;124;43m\"\u001b[39;49m\u001b[38;5;124;43mround-robin\u001b[39;49m\u001b[38;5;124;43m\"\u001b[39;49m\u001b[43m,\u001b[49m\u001b[43m \u001b[49m\u001b[38;5;66;43;03m# mmr, round-robin\u001b[39;49;00m\n\u001b[1;32m     11\u001b[0m \u001b[43m                                        \u001b[49m\u001b[43mmmr_lambda\u001b[49m\u001b[38;5;241;43m=\u001b[39;49m\u001b[38;5;241;43m0.5\u001b[39;49m\u001b[43m,\u001b[49m\n\u001b[1;32m     12\u001b[0m \u001b[43m                                        \u001b[49m\u001b[43mclassification_threshold\u001b[49m\u001b[38;5;241;43m=\u001b[39;49m\u001b[38;5;241;43m0.05\u001b[39;49m\u001b[43m,\u001b[49m\n\u001b[1;32m     13\u001b[0m \u001b[43m                                        \u001b[49m\u001b[43mclassification_topk\u001b[49m\u001b[38;5;241;43m=\u001b[39;49m\u001b[38;5;241;43m0\u001b[39;49m\u001b[43m)\u001b[49m\n\u001b[1;32m     15\u001b[0m \u001b[38;5;28mprint\u001b[39m(\u001b[38;5;124m\"\u001b[39m\u001b[38;5;124mfacets:\u001b[39m\u001b[38;5;124m\"\u001b[39m, facets)\n",
      "File \u001b[0;32m~/paper/facet/Faspect/faspect.py:77\u001b[0m, in \u001b[0;36mFaspect.extract_facets\u001b[0;34m(self, query, docs, aggregation, mmr_lambda, classification_threshold, classification_topk)\u001b[0m\n\u001b[1;32m     75\u001b[0m facets_abstractive \u001b[38;5;241m=\u001b[39m \u001b[38;5;28mself\u001b[39m\u001b[38;5;241m.\u001b[39mabstractive_extractor\u001b[38;5;241m.\u001b[39mextract(batch_queries\u001b[38;5;241m=\u001b[39mquery, batch_snippets\u001b[38;5;241m=\u001b[39mdocs)\n\u001b[1;32m     76\u001b[0m facets_abstractive_query \u001b[38;5;241m=\u001b[39m \u001b[38;5;28mself\u001b[39m\u001b[38;5;241m.\u001b[39mabstractive_query_extractor\u001b[38;5;241m.\u001b[39mextract(batch_queries\u001b[38;5;241m=\u001b[39mquery, batch_snippets\u001b[38;5;241m=\u001b[39mdocs)\n\u001b[0;32m---> 77\u001b[0m facets_extractive \u001b[38;5;241m=\u001b[39m \u001b[38;5;28;43mself\u001b[39;49m\u001b[38;5;241;43m.\u001b[39;49m\u001b[43mextractive_extractor\u001b[49m\u001b[38;5;241;43m.\u001b[39;49m\u001b[43mextract\u001b[49m\u001b[43m(\u001b[49m\u001b[43mbatch_queries\u001b[49m\u001b[38;5;241;43m=\u001b[39;49m\u001b[43mquery\u001b[49m\u001b[43m,\u001b[49m\u001b[43m \u001b[49m\u001b[43mbatch_snippets\u001b[49m\u001b[38;5;241;43m=\u001b[39;49m\u001b[43mdocs\u001b[49m\u001b[43m)\u001b[49m\n\u001b[1;32m     78\u001b[0m facets_classifier \u001b[38;5;241m=\u001b[39m \u001b[38;5;28mself\u001b[39m\u001b[38;5;241m.\u001b[39mclassifier\u001b[38;5;241m.\u001b[39mpredict(query\u001b[38;5;241m=\u001b[39mquery,\n\u001b[1;32m     79\u001b[0m                                             documents\u001b[38;5;241m=\u001b[39mdocs,\n\u001b[1;32m     80\u001b[0m                                             threshold\u001b[38;5;241m=\u001b[39mclassification_threshold,\n\u001b[1;32m     81\u001b[0m                                             topk\u001b[38;5;241m=\u001b[39mclassification_topk)\n\u001b[1;32m     82\u001b[0m facets_unsupervised \u001b[38;5;241m=\u001b[39m [] \u001b[38;5;66;03m#self.unsupervised_extractor.extract(batch_queries=query, batch_snippets=docs, limit=20)\u001b[39;00m\n",
      "File \u001b[0;32m~/paper/facet/Faspect/models/extractive/tagging/tagging.py:194\u001b[0m, in \u001b[0;36mSupervisedFacetExtractorTagging.extract\u001b[0;34m(self, batch_queries, batch_snippets, batch_size)\u001b[0m\n\u001b[1;32m    192\u001b[0m \u001b[38;5;28;01mfor\u001b[39;00m i, q \u001b[38;5;129;01min\u001b[39;00m \u001b[38;5;28menumerate\u001b[39m(batch_queries):\n\u001b[1;32m    193\u001b[0m     facets_freq \u001b[38;5;241m=\u001b[39m defaultdict(\u001b[38;5;28;01mlambda\u001b[39;00m: \u001b[38;5;241m0\u001b[39m)\n\u001b[0;32m--> 194\u001b[0m     pairs \u001b[38;5;241m=\u001b[39m [(q, snippet) \u001b[38;5;28;01mfor\u001b[39;00m snippet \u001b[38;5;129;01min\u001b[39;00m batch_snippets[i]]\n\u001b[1;32m    195\u001b[0m     facets \u001b[38;5;241m=\u001b[39m \u001b[38;5;28mself\u001b[39m\u001b[38;5;241m.\u001b[39mpredict(pairs)\n\u001b[1;32m    196\u001b[0m     \u001b[38;5;28;01mfor\u001b[39;00m snippet_facets \u001b[38;5;129;01min\u001b[39;00m facets:\n",
      "\u001b[0;31mTypeError\u001b[0m: 'NoneType' object is not iterable"
     ]
    }
   ],
   "source": [
    "query = \"cars\"\n",
    "\n",
    "# documents = [\"Shop new & used cars, research & compare models, find local dealers/sellers,calculate payments, value your car, sell/trade in your car & more at Cars.com.\",\n",
    "#              \"Search over 48789 used Cars in Amherst, MA. TrueCar has over 861570 listings nationwide, updated daily. Come find a great deal on used Cars in Amherst today!\",\n",
    "#              \"Cars is a 2006 American computer-animated sports comedy film produced by Pixar Animation Studios and released by Walt Disney Pictures.\",\n",
    "#              \"Search for used cars at carmax.com. Use our car search or research makes and models with customer reviews, expert reviews, and more.\"]\n",
    "documents = None\n",
    "facets = facet_extractor.extract_facets(query, \n",
    "                                        documents,\n",
    "                                        aggregation=\"round-robin\", # mmr, round-robin\n",
    "                                        mmr_lambda=0.5,\n",
    "                                        classification_threshold=0.05,\n",
    "                                        classification_topk=0)\n",
    "\n",
    "print(\"facets:\", facets)"
   ]
  },
  {
   "cell_type": "code",
   "execution_count": 3,
   "id": "511d9d0a-dd2f-49bf-9675-72266eeba083",
   "metadata": {},
   "outputs": [],
   "source": [
    "import json\n",
    "with open(\"../data/test.json\", 'r', encoding='utf-8') as f:\n",
    "    test_data = json.load(f)"
   ]
  },
  {
   "cell_type": "code",
   "execution_count": null,
   "id": "f238a0a0-21e8-46ba-b118-61cdf015ab8e",
   "metadata": {},
   "outputs": [],
   "source": [
    "num,option_num = 0,0\n",
    "for ind, data in test_data.items():\n",
    "    if 'document' not in data:\n",
    "        num += 1\n",
    "    if data['options_overall_label'] == 1:\n",
    "        option_num += 1\n",
    "    else:\n",
    "        print(data['options_overall_label'])\n",
    "num, option_num, len(test_data)"
   ]
  },
  {
   "cell_type": "code",
   "execution_count": 5,
   "id": "e927056a-ef03-4eb3-ac82-9606d7421337",
   "metadata": {},
   "outputs": [
    {
     "data": {
      "text/plain": [
       "{'query': 'what is the function of the nucleus',\n",
       " 'facet': ['cell', 'science'],\n",
       " 'options_overall_label': 1,\n",
       " 'document': ['The cell nucleus is a membrane-bound structure that contains a cells hereditary information and controls its growth and reproduction. It is the command center of a eukaryotic cell and is usually the most notable cell organelle in both size and function.',\n",
       "  'The function of the nucleus is to store a cell’s hereditary material, or DNA, which helps with and controls a cell’s growth, function, and reproduction. The nucleus is an organelle found in eukaryotic cells and functions as the holder of a cell’s blueprint.. The nucleus often referred to as the “brain” of the cell, is the largest and most prominent organelle in the cell.',\n",
       "  'Nucleus, in biology, a specialized structure occurring in most cells (except bacteria and blue-green algae) and separated from the rest of the cell by a double layer, the nuclear membrane. The nucleus controls and regulates the activities of the cell (e.g., growth and metabolism) and carries the genes.',\n",
       "  'The main function of the cell nucleus is to control gene expression and mediate the replication of DNA during the cell cycle. The nucleus is an organelle found in eukaryotic cells. Inside its fully enclosed nuclear membrane, it contains the majority of the cells genetic material.',\n",
       "  'Nucleus ensures equal distribution and exact copying of the genetic content during the process of cell replication. This is the main function of nucleus in animal cells. The nucleus sustains and controls the cell growth by orchestrating the synthesis of structural proteins in the cell.',\n",
       "  'The nucleus is often the most prominent structure within an eukaryotic cells and it controls all functional activities of the cell. It is the control centre of the cell for cell metabolism and reproduction. The nucleus is a specialised double membrane bound organelle which contains genetic information on a special strands called chromosomes.The nucleus is also known as karyon and its study is ...',\n",
       "  'Function of the Nucleus. The nucleus is an organelle found in eukaryotic cells. Inside its fully-enclosed nuclear membrane, it contains the majority of the cells genetic material. This material is organized as DNA molecules, along with a variety of proteins, to form chromosomes.',\n",
       "  'Function of the Nucleus “Cellular activity” is a rather vague term, however, and considering that a nucleus is the “brain” of a cell, that activity deserves some explication. Similar to human beings and their brains, without a nucleus, a cell would be unable to function and would immediately perish.',\n",
       "  'Nucleus - Structure and Function The nucleus is an important organelle responsible for controlling nearly all forms of cellular activities. Almost every kind of cell in existence is classified based on the presence or absence of the nucleus within its cell (classified either as a eukaryotic or prokaryotic cell.)'],\n",
       " 'related': ['what does the nucleus do',\n",
       "  'the nucleus is responsible for a cell&#39;s',\n",
       "  'what is the main function of nucleus',\n",
       "  'what is the cell nucleus',\n",
       "  'nucleus function and location',\n",
       "  'what does a nucleolus do',\n",
       "  'the nucleus structure',\n",
       "  'what is the job of the nucleus']}"
      ]
     },
     "execution_count": 5,
     "metadata": {},
     "output_type": "execute_result"
    }
   ],
   "source": [
    "data"
   ]
  },
  {
   "cell_type": "code",
   "execution_count": null,
   "id": "20d5e4f1-ab65-40de-b29b-0dbc21eeeed1",
   "metadata": {},
   "outputs": [],
   "source": []
  }
 ],
 "metadata": {
  "kernelspec": {
   "display_name": "venv_main",
   "language": "python",
   "name": "venv_main"
  },
  "language_info": {
   "codemirror_mode": {
    "name": "ipython",
    "version": 3
   },
   "file_extension": ".py",
   "mimetype": "text/x-python",
   "name": "python",
   "nbconvert_exporter": "python",
   "pygments_lexer": "ipython3",
   "version": "3.8.10"
  }
 },
 "nbformat": 4,
 "nbformat_minor": 5
}
