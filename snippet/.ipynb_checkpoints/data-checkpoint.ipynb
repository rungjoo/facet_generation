{
 "cells": [
  {
   "cell_type": "markdown",
   "id": "63755ed4-c911-40bd-973a-ece2b0c983d0",
   "metadata": {},
   "source": [
    "## 파일로 로딩"
   ]
  },
  {
   "cell_type": "code",
   "execution_count": 1,
   "id": "07634fbe-2099-4a15-be85-45c10606c176",
   "metadata": {},
   "outputs": [],
   "source": [
    "from transformers import AutoTokenizer, BartForConditionalGeneration\n",
    "\n",
    "model_path = \"/home/jovyan/hdfs-jmt-rungjoo-private/huggingface_models/bart-base\"\n",
    "# model = BartForConditionalGeneration.from_pretrained(model_path)\n",
    "# tokenizer = AutoTokenizer.from_pretrained(model_path) # facebook/bart-base"
   ]
  },
  {
   "cell_type": "code",
   "execution_count": 2,
   "id": "00815715-67b4-4925-89a7-57bd9a9e1d0d",
   "metadata": {},
   "outputs": [],
   "source": [
    "from dataloader import data_loader\n",
    "dataset = data_loader(\"../data/test.json\", model_path)"
   ]
  },
  {
   "cell_type": "code",
   "execution_count": 4,
   "id": "162cf85c-efc8-4231-aba6-5d4f8cd790e6",
   "metadata": {},
   "outputs": [
    {
     "name": "stdout",
     "output_type": "stream",
     "text": [
      "0\n"
     ]
    }
   ],
   "source": [
    "num = 0\n",
    "for i in range(len(dataset)):\n",
    "    data = dataset[i]\n",
    "    if 'document' not in data:\n",
    "        num += 1\n",
    "print(num)"
   ]
  },
  {
   "cell_type": "code",
   "execution_count": 4,
   "id": "17af0a76-2f65-4810-8144-c46412a77b9b",
   "metadata": {},
   "outputs": [],
   "source": [
    "from torch.utils.data import DataLoader\n",
    "dataloader = DataLoader(dataset, batch_size=2, shuffle=True, num_workers=4, collate_fn=dataset.collate_fn)"
   ]
  },
  {
   "cell_type": "code",
   "execution_count": 5,
   "id": "a5973e03-7e78-4ece-8109-61693cfe10b4",
   "metadata": {},
   "outputs": [],
   "source": [
    "for line in dataloader:\n",
    "    enc_input_ids, enc_attention_mask, dec_input_ids, dec_attention_mask, labels = line\n",
    "    break"
   ]
  },
  {
   "cell_type": "code",
   "execution_count": 6,
   "id": "238bc2c6-8a2b-4069-a9af-f420364a7839",
   "metadata": {},
   "outputs": [],
   "source": [
    "outputs = model(\n",
    "    input_ids=enc_input_ids,\n",
    "    attention_mask=enc_attention_mask,\n",
    "    decoder_input_ids=dec_input_ids,\n",
    "    decoder_attention_mask=dec_attention_mask,\n",
    "    labels=labels\n",
    ")"
   ]
  },
  {
   "cell_type": "code",
   "execution_count": 8,
   "id": "e9f3e5be-ec3c-4542-8ea8-74b46fc46110",
   "metadata": {},
   "outputs": [
    {
     "data": {
      "text/plain": [
       "odict_keys(['loss', 'logits', 'encoder_last_hidden_state'])"
      ]
     },
     "execution_count": 8,
     "metadata": {},
     "output_type": "execute_result"
    }
   ],
   "source": [
    "outputs.keys()"
   ]
  },
  {
   "cell_type": "code",
   "execution_count": 10,
   "id": "f87d48c7-0248-43ff-b4e2-b3f95713aa6c",
   "metadata": {},
   "outputs": [],
   "source": [
    "import torch\n",
    "device = torch.device(\"cuda\" if torch.cuda.is_available() else 'cpu')"
   ]
  },
  {
   "cell_type": "code",
   "execution_count": 13,
   "id": "10211844-e3df-4c13-9b59-d27867854de4",
   "metadata": {},
   "outputs": [
    {
     "data": {
      "text/plain": [
       "tensor([[    0,   366,  1999,  3471,     6, 33141,   118,  3471,     6, 12668,\n",
       "             6,  5565,     2,     1],\n",
       "        [    0,  3209,   857,  4334, 15750,    13,  1392,     6,   364, 18707,\n",
       "          1637, 15750,    13,  1392]], device='cuda:0')"
      ]
     },
     "execution_count": 13,
     "metadata": {},
     "output_type": "execute_result"
    }
   ],
   "source": [
    "enc_input_ids = enc_input_ids.to(device)\n",
    "enc_attention_mask.to(device)\n",
    "dec_input_ids.to(device)\n",
    "dec_attention_mask.to(device)\n",
    "labels.to(device)"
   ]
  },
  {
   "cell_type": "code",
   "execution_count": 14,
   "id": "1b71ad3a-9d5d-439e-8341-62470295bbd5",
   "metadata": {},
   "outputs": [
    {
     "data": {
      "text/plain": [
       "tensor([[    0,  9502,  2887, 14506,     2,     1,     1],\n",
       "        [    0,  3209,   857, 15750,    13,  1392,     2]], device='cuda:0')"
      ]
     },
     "execution_count": 14,
     "metadata": {},
     "output_type": "execute_result"
    }
   ],
   "source": [
    "enc_input_ids"
   ]
  },
  {
   "cell_type": "code",
   "execution_count": null,
   "id": "73cdb46c-62f2-4c5d-8150-f9149999806d",
   "metadata": {},
   "outputs": [],
   "source": []
  }
 ],
 "metadata": {
  "kernelspec": {
   "display_name": "venv_p5",
   "language": "python",
   "name": "venv_p5"
  },
  "language_info": {
   "codemirror_mode": {
    "name": "ipython",
    "version": 3
   },
   "file_extension": ".py",
   "mimetype": "text/x-python",
   "name": "python",
   "nbconvert_exporter": "python",
   "pygments_lexer": "ipython3",
   "version": "3.8.10"
  }
 },
 "nbformat": 4,
 "nbformat_minor": 5
}
